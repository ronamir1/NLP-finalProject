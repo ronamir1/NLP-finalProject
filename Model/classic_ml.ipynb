{
 "cells": [
  {
   "cell_type": "markdown",
   "metadata": {
    "pycharm": {
     "name": "#%% md\n"
    }
   },
   "source": [
    "# Using classic ML to predict author characteristics"
   ]
  },
  {
   "cell_type": "code",
   "execution_count": 18,
   "metadata": {
    "collapsed": true
   },
   "outputs": [
    {
     "data": {
      "text/plain": "                                             content  sex  hebrew_speaker  \\\n0     \\t \\t \\t     לידידי הרב החכם רב-הפעלים    מ...    0               1   \n1     \\t \\t \\t    לא. ד. גורדון        היום הלך ו...    1               1   \n2     \\t \\t \\t     שלום רב שובך, צפרה נחמדת,  מאר...    0               1   \n3     \\t \\t \\t     משוט במרחקים, ממקומות נדדתי,  ...    0               1   \n4     \\t \\t \\t    לשיר בנגון אקדמות   אלף – אבטיח...    0               1   \n\n   birth_period  death_period  birth_place_israel  death_place_israel  \n0             3             3                   0                   0  \n1             3             4                   0                   1  \n2             3             4                   0                   0  \n3             3             4                   0                   0  \n4             3             4                   0                   1  ",
      "text/html": "<div>\n<style scoped>\n    .dataframe tbody tr th:only-of-type {\n        vertical-align: middle;\n    }\n\n    .dataframe tbody tr th {\n        vertical-align: top;\n    }\n\n    .dataframe thead th {\n        text-align: right;\n    }\n</style>\n<table border=\"1\" class=\"dataframe\">\n  <thead>\n    <tr style=\"text-align: right;\">\n      <th></th>\n      <th>content</th>\n      <th>sex</th>\n      <th>hebrew_speaker</th>\n      <th>birth_period</th>\n      <th>death_period</th>\n      <th>birth_place_israel</th>\n      <th>death_place_israel</th>\n    </tr>\n  </thead>\n  <tbody>\n    <tr>\n      <th>0</th>\n      <td>\\t \\t \\t     לידידי הרב החכם רב-הפעלים    מ...</td>\n      <td>0</td>\n      <td>1</td>\n      <td>3</td>\n      <td>3</td>\n      <td>0</td>\n      <td>0</td>\n    </tr>\n    <tr>\n      <th>1</th>\n      <td>\\t \\t \\t    לא. ד. גורדון        היום הלך ו...</td>\n      <td>1</td>\n      <td>1</td>\n      <td>3</td>\n      <td>4</td>\n      <td>0</td>\n      <td>1</td>\n    </tr>\n    <tr>\n      <th>2</th>\n      <td>\\t \\t \\t     שלום רב שובך, צפרה נחמדת,  מאר...</td>\n      <td>0</td>\n      <td>1</td>\n      <td>3</td>\n      <td>4</td>\n      <td>0</td>\n      <td>0</td>\n    </tr>\n    <tr>\n      <th>3</th>\n      <td>\\t \\t \\t     משוט במרחקים, ממקומות נדדתי,  ...</td>\n      <td>0</td>\n      <td>1</td>\n      <td>3</td>\n      <td>4</td>\n      <td>0</td>\n      <td>0</td>\n    </tr>\n    <tr>\n      <th>4</th>\n      <td>\\t \\t \\t    לשיר בנגון אקדמות   אלף – אבטיח...</td>\n      <td>0</td>\n      <td>1</td>\n      <td>3</td>\n      <td>4</td>\n      <td>0</td>\n      <td>1</td>\n    </tr>\n  </tbody>\n</table>\n</div>"
     },
     "execution_count": 18,
     "metadata": {},
     "output_type": "execute_result"
    }
   ],
   "source": [
    "from pathlib import Path\n",
    "import pandas as pd\n",
    "import numpy as np\n",
    "\n",
    "DATASET_PATH = Path.cwd().parent / \"Data\" / \"data_set.csv\"\n",
    "data_data_frame = pd.read_csv(DATASET_PATH)\n",
    "\n",
    "np.random.seed(36)\n",
    "\n",
    "data_data_frame.head()"
   ]
  },
  {
   "cell_type": "code",
   "execution_count": 19,
   "outputs": [
    {
     "name": "stdout",
     "output_type": "stream",
     "text": [
      "sex 2 2\n",
      "hebrew_speaker 2 2\n",
      "birth_period 5 5\n",
      "death_period 5 6\n",
      "birth_place_israel 2 2\n",
      "death_place_israel 2 2\n"
     ]
    }
   ],
   "source": [
    "from sklearn.model_selection import train_test_split\n",
    "\n",
    "train, test = train_test_split(data_data_frame, train_size=0.8)\n",
    "\n",
    "for label in ['sex', 'hebrew_speaker', 'birth_period', 'death_period', 'birth_place_israel',\n",
    "                    'death_place_israel']:\n",
    "    print(label, len(set(train[label])), len(set(test[label])))"
   ],
   "metadata": {
    "collapsed": false,
    "pycharm": {
     "name": "#%%\n"
    }
   }
  },
  {
   "cell_type": "markdown",
   "source": [
    "## Author sex"
   ],
   "metadata": {
    "collapsed": false
   }
  },
  {
   "cell_type": "code",
   "execution_count": 31,
   "outputs": [
    {
     "name": "stdout",
     "output_type": "stream",
     "text": [
      "              precision    recall  f1-score   support\n",
      "\n",
      "           0       0.97      1.00      0.98      1349\n",
      "           1       1.00      0.02      0.04        49\n",
      "\n",
      "    accuracy                           0.97      1398\n",
      "   macro avg       0.98      0.51      0.51      1398\n",
      "weighted avg       0.97      0.97      0.95      1398\n",
      "\n"
     ]
    },
    {
     "data": {
      "text/plain": "<Figure size 432x288 with 2 Axes>",
      "image/png": "[encoded data removed]"
     },
     "metadata": {
      "needs_background": "light"
     },
     "output_type": "display_data"
    }
   ],
   "source": [
    "from imblearn.pipeline import Pipeline\n",
    "from sklearn.feature_extraction.text import CountVectorizer, TfidfTransformer\n",
    "from imblearn.over_sampling import SMOTE\n",
    "from imblearn.under_sampling import RandomUnderSampler\n",
    "from sklearn.linear_model import LogisticRegression\n",
    "from sklearn.ensemble import RandomForestClassifier\n",
    "from sklearn.metrics import classification_report, plot_confusion_matrix\n",
    "import matplotlib.pyplot as plt\n",
    "\n",
    "vectorizer = CountVectorizer(ngram_range=(1,2))\n",
    "transformer = TfidfTransformer(use_idf=False)\n",
    "smote = SMOTE(sampling_strategy=0.1)\n",
    "under_sampler = RandomUnderSampler(sampling_strategy=0.5)\n",
    "algo=RandomForestClassifier()\n",
    "\n",
    "pipe = Pipeline([('vectorizer', vectorizer),\n",
    "                 ('transformer', transformer),\n",
    "                 ('over_sample', smote),\n",
    "                 ('under_sample', under_sampler),\n",
    "                 #('feature_select', SelectKBest(chi2, k=20000)),\n",
    "                 ('algo', algo)])\n",
    "\n",
    "pipe.fit(train.content, train.sex)\n",
    "prediction = pipe.predict(test.content)\n",
    "print(classification_report(test.sex, prediction))\n",
    "plot_confusion_matrix(pipe, test.content, test.sex)\n",
    "plt.show()"
   ],
   "metadata": {
    "collapsed": false,
    "pycharm": {
     "name": "#%%\n"
    }
   }
  },
  {
   "cell_type": "markdown",
   "source": [
    "## Translated songs"
   ],
   "metadata": {
    "collapsed": false,
    "pycharm": {
     "name": "#%% md\n"
    }
   }
  },
  {
   "cell_type": "code",
   "execution_count": 21,
   "outputs": [
    {
     "name": "stdout",
     "output_type": "stream",
     "text": [
      "              precision    recall  f1-score   support\n",
      "\n",
      "           0       0.57      0.09      0.16        43\n",
      "           1       0.97      1.00      0.98      1355\n",
      "\n",
      "    accuracy                           0.97      1398\n",
      "   macro avg       0.77      0.55      0.57      1398\n",
      "weighted avg       0.96      0.97      0.96      1398\n",
      "\n"
     ]
    },
    {
     "data": {
      "text/plain": "<Figure size 432x288 with 2 Axes>",
      "image/png": "[encoded data removed]"
     },
     "metadata": {
      "needs_background": "light"
     },
     "output_type": "display_data"
    }
   ],
   "source": [
    "pipe.fit(train.content, train.hebrew_speaker)\n",
    "prediction = pipe.predict(test.content)\n",
    "print(classification_report(test.hebrew_speaker, prediction))\n",
    "plot_confusion_matrix(pipe, test.content, test.hebrew_speaker)\n",
    "plt.show()"
   ],
   "metadata": {
    "collapsed": false,
    "pycharm": {
     "name": "#%%\n"
    }
   }
  },
  {
   "cell_type": "markdown",
   "source": [
    "## Author born in Israel"
   ],
   "metadata": {
    "collapsed": false
   }
  },
  {
   "cell_type": "code",
   "execution_count": 22,
   "outputs": [
    {
     "name": "stderr",
     "output_type": "stream",
     "text": [
      "C:\\Users\\aviadud\\.conda\\envs\\hebnlp38\\lib\\site-packages\\sklearn\\metrics\\_classification.py:1248: UndefinedMetricWarning: Precision and F-score are ill-defined and being set to 0.0 in labels with no predicted samples. Use `zero_division` parameter to control this behavior.\n",
      "  _warn_prf(average, modifier, msg_start, len(result))\n",
      "C:\\Users\\aviadud\\.conda\\envs\\hebnlp38\\lib\\site-packages\\sklearn\\metrics\\_classification.py:1248: UndefinedMetricWarning: Precision and F-score are ill-defined and being set to 0.0 in labels with no predicted samples. Use `zero_division` parameter to control this behavior.\n",
      "  _warn_prf(average, modifier, msg_start, len(result))\n",
      "C:\\Users\\aviadud\\.conda\\envs\\hebnlp38\\lib\\site-packages\\sklearn\\metrics\\_classification.py:1248: UndefinedMetricWarning: Precision and F-score are ill-defined and being set to 0.0 in labels with no predicted samples. Use `zero_division` parameter to control this behavior.\n",
      "  _warn_prf(average, modifier, msg_start, len(result))\n"
     ]
    },
    {
     "name": "stdout",
     "output_type": "stream",
     "text": [
      "              precision    recall  f1-score   support\n",
      "\n",
      "           0       0.99      1.00      1.00      1389\n",
      "           1       0.00      0.00      0.00         9\n",
      "\n",
      "    accuracy                           0.99      1398\n",
      "   macro avg       0.50      0.50      0.50      1398\n",
      "weighted avg       0.99      0.99      0.99      1398\n",
      "\n"
     ]
    },
    {
     "data": {
      "text/plain": "<Figure size 432x288 with 2 Axes>",
      "image/png": "[encoded data removed]"
     },
     "metadata": {
      "needs_background": "light"
     },
     "output_type": "display_data"
    }
   ],
   "source": [
    "pipe.fit(train.content, train.birth_place_israel)\n",
    "prediction = pipe.predict(test.content)\n",
    "print(classification_report(test.birth_place_israel, prediction))\n",
    "plot_confusion_matrix(pipe, test.content, test.birth_place_israel)\n",
    "plt.show()"
   ],
   "metadata": {
    "collapsed": false,
    "pycharm": {
     "name": "#%%\n"
    }
   }
  },
  {
   "cell_type": "markdown",
   "source": [
    "## Author died in Israel"
   ],
   "metadata": {
    "collapsed": false
   }
  },
  {
   "cell_type": "code",
   "execution_count": 32,
   "outputs": [
    {
     "name": "stdout",
     "output_type": "stream",
     "text": [
      "              precision    recall  f1-score   support\n",
      "\n",
      "           0       0.74      0.99      0.84       997\n",
      "           1       0.81      0.11      0.20       401\n",
      "\n",
      "    accuracy                           0.74      1398\n",
      "   macro avg       0.77      0.55      0.52      1398\n",
      "weighted avg       0.76      0.74      0.66      1398\n",
      "\n"
     ]
    },
    {
     "data": {
      "text/plain": "<Figure size 432x288 with 2 Axes>",
      "image/png": "[encoded data removed]"
     },
     "metadata": {
      "needs_background": "light"
     },
     "output_type": "display_data"
    }
   ],
   "source": [
    "smote = SMOTE()\n",
    "\n",
    "pipe = Pipeline([('vectorizer', vectorizer),\n",
    "                 ('transformer', transformer),\n",
    "                 ('over_sample', smote),\n",
    "                 #('feature_select', SelectKBest(chi2, k=20000)),\n",
    "                 ('algo', algo)])\n",
    "\n",
    "pipe.fit(train.content, train.death_place_israel)\n",
    "prediction = pipe.predict(test.content)\n",
    "print(classification_report(test.death_place_israel, prediction))\n",
    "plot_confusion_matrix(pipe, test.content, test.death_place_israel)\n",
    "plt.show()"
   ],
   "metadata": {
    "collapsed": false,
    "pycharm": {
     "name": "#%%\n"
    }
   }
  },
  {
   "cell_type": "markdown",
   "source": [
    "## Author birth time period"
   ],
   "metadata": {
    "collapsed": false,
    "pycharm": {
     "name": "#%% md\n"
    }
   }
  },
  {
   "cell_type": "code",
   "execution_count": 28,
   "outputs": [
    {
     "name": "stderr",
     "output_type": "stream",
     "text": [
      "C:\\Users\\aviadud\\.conda\\envs\\hebnlp38\\lib\\site-packages\\sklearn\\metrics\\_classification.py:1248: UndefinedMetricWarning: Precision and F-score are ill-defined and being set to 0.0 in labels with no predicted samples. Use `zero_division` parameter to control this behavior.\n",
      "  _warn_prf(average, modifier, msg_start, len(result))\n",
      "C:\\Users\\aviadud\\.conda\\envs\\hebnlp38\\lib\\site-packages\\sklearn\\metrics\\_classification.py:1248: UndefinedMetricWarning: Precision and F-score are ill-defined and being set to 0.0 in labels with no predicted samples. Use `zero_division` parameter to control this behavior.\n",
      "  _warn_prf(average, modifier, msg_start, len(result))\n",
      "C:\\Users\\aviadud\\.conda\\envs\\hebnlp38\\lib\\site-packages\\sklearn\\metrics\\_classification.py:1248: UndefinedMetricWarning: Precision and F-score are ill-defined and being set to 0.0 in labels with no predicted samples. Use `zero_division` parameter to control this behavior.\n",
      "  _warn_prf(average, modifier, msg_start, len(result))\n"
     ]
    },
    {
     "name": "stdout",
     "output_type": "stream",
     "text": [
      "              precision    recall  f1-score   support\n",
      "\n",
      "           0       0.00      0.00      0.00        10\n",
      "           1       0.84      0.96      0.90       633\n",
      "           2       1.00      0.06      0.12        78\n",
      "           3       0.80      0.89      0.84       603\n",
      "           4       0.00      0.00      0.00        74\n",
      "\n",
      "    accuracy                           0.82      1398\n",
      "   macro avg       0.53      0.38      0.37      1398\n",
      "weighted avg       0.78      0.82      0.78      1398\n",
      "\n"
     ]
    },
    {
     "data": {
      "text/plain": "<Figure size 432x288 with 2 Axes>",
      "image/png": "[encoded data removed]"
     },
     "metadata": {
      "needs_background": "light"
     },
     "output_type": "display_data"
    }
   ],
   "source": [
    "from sklearn.pipeline import Pipeline\n",
    "\n",
    "pipe = Pipeline([('vectorizer', vectorizer),\n",
    "                 ('transformer', transformer),\n",
    "                 #('feature_select', SelectKBest(chi2, k=20000)),\n",
    "                 ('algo', algo)])\n",
    "\n",
    "pipe.fit(train.content, train.birth_period)\n",
    "prediction = pipe.predict(test.content)\n",
    "print(classification_report(test.birth_period, prediction))\n",
    "plot_confusion_matrix(pipe, test.content, test.birth_period)\n",
    "plt.show()"
   ],
   "metadata": {
    "collapsed": false,
    "pycharm": {
     "name": "#%%\n"
    }
   }
  },
  {
   "cell_type": "markdown",
   "source": [
    "## Author death time period"
   ],
   "metadata": {
    "collapsed": false
   }
  },
  {
   "cell_type": "code",
   "execution_count": 29,
   "outputs": [
    {
     "name": "stderr",
     "output_type": "stream",
     "text": [
      "C:\\Users\\aviadud\\.conda\\envs\\hebnlp38\\lib\\site-packages\\sklearn\\metrics\\_classification.py:1248: UndefinedMetricWarning: Precision and F-score are ill-defined and being set to 0.0 in labels with no predicted samples. Use `zero_division` parameter to control this behavior.\n",
      "  _warn_prf(average, modifier, msg_start, len(result))\n",
      "C:\\Users\\aviadud\\.conda\\envs\\hebnlp38\\lib\\site-packages\\sklearn\\metrics\\_classification.py:1248: UndefinedMetricWarning: Precision and F-score are ill-defined and being set to 0.0 in labels with no predicted samples. Use `zero_division` parameter to control this behavior.\n",
      "  _warn_prf(average, modifier, msg_start, len(result))\n",
      "C:\\Users\\aviadud\\.conda\\envs\\hebnlp38\\lib\\site-packages\\sklearn\\metrics\\_classification.py:1248: UndefinedMetricWarning: Precision and F-score are ill-defined and being set to 0.0 in labels with no predicted samples. Use `zero_division` parameter to control this behavior.\n",
      "  _warn_prf(average, modifier, msg_start, len(result))\n"
     ]
    },
    {
     "name": "stdout",
     "output_type": "stream",
     "text": [
      "              precision    recall  f1-score   support\n",
      "\n",
      "           0       0.00      0.00      0.00        10\n",
      "           1       0.83      0.96      0.89       608\n",
      "           2       1.00      0.14      0.24        74\n",
      "           3       1.00      0.03      0.07        88\n",
      "           4       0.82      0.91      0.87       617\n",
      "           5       0.00      0.00      0.00         1\n",
      "\n",
      "    accuracy                           0.83      1398\n",
      "   macro avg       0.61      0.34      0.34      1398\n",
      "weighted avg       0.84      0.83      0.79      1398\n",
      "\n"
     ]
    },
    {
     "data": {
      "text/plain": "<Figure size 432x288 with 2 Axes>",
      "image/png": "[encoded data removed]"
     },
     "metadata": {
      "needs_background": "light"
     },
     "output_type": "display_data"
    }
   ],
   "source": [
    "pipe.fit(train.content, train.death_period)\n",
    "prediction = pipe.predict(test.content)\n",
    "print(classification_report(test.death_period, prediction))\n",
    "plot_confusion_matrix(pipe, test.content, test.death_period)\n",
    "plt.show()"
   ],
   "metadata": {
    "collapsed": false,
    "pycharm": {
     "name": "#%%\n"
    }
   }
  }
 ],
 "metadata": {
  "kernelspec": {
   "display_name": "hebnlp38",
   "language": "python",
   "name": "hebnlp38"
  },
  "language_info": {
   "codemirror_mode": {
    "name": "ipython",
    "version": 3
   },
   "file_extension": ".py",
   "mimetype": "text/x-python",
   "name": "python",
   "nbconvert_exporter": "python",
   "pygments_lexer": "ipython3",
   "version": "3.8.10"
  }
 },
 "nbformat": 4,
 "nbformat_minor": 1
}