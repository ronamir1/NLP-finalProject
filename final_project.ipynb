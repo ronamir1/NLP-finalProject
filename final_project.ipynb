{
 "cells": [
  {
   "cell_type": "code",
   "execution_count": 1,
   "metadata": {
    "collapsed": true
   },
   "outputs": [],
   "source": [
    "import sys\n",
    "import pandas as pd\n",
    "import numpy as np\n",
    "import re\n",
    "import pywikibot\n",
    "import requests\n",
    "from bs4 import BeautifulSoup\n",
    "import datetime\n"
   ]
  },
  {
   "cell_type": "code",
   "execution_count": null,
   "outputs": [],
   "source": [
    "catalog_df = pd.read_csv(\"public_domain_dump-master/pseudocatalogue.csv\")\n",
    "i = 6\n",
    "i"
   ],
   "metadata": {
    "collapsed": false,
    "pycharm": {
     "name": "#%%\n"
    }
   }
  },
  {
   "cell_type": "code",
   "execution_count": null,
   "outputs": [],
   "source": [
    "ONLY_WORDS_AND_DIGITS_REGEX = re.compile(r'[\\w\\dא-ת]+')\n",
    "\n",
    "def get_only_words_and_digits(text: str):\n",
    "    return ONLY_WORDS_AND_DIGITS_REGEX.findall(text)\n",
    "\n",
    "def invert_words(words: list):\n",
    "    return [w[::-1] for w in words]\n",
    "\n",
    "def remove_last_line_from_string(s):\n",
    "    s = s.split(\"את הטקסט לעיל הפיקו מתנדבי פרויקט בן־יהודה באינטרנט.  הוא זמין תמיד בכתובת הבאה\")\n",
    "    return s[0]\n",
    "\n",
    "\n",
    "def remove_author_title(s, author, title):\n",
    "    s = s.replace(title, \"\", 1)\n",
    "    return s.replace(author, \"\")\n",
    "\n",
    "def normalize_text(s):\n",
    "    s = re.sub(r'[\\u0591-\\u05BD\\u05BF-\\u05C2\\u05C4-\\u05C7]', '', s)\n",
    "    return s.strip()\n",
    "\n",
    "def parse_place(place):\n",
    "    place = place.replace(\"\\n\", \"$\")\n",
    "    place = place.split(\"$$$$$$$$$$$$$$$$\")[1]\n",
    "    return place.split(\"$$$$$$$$$\")[0]\n",
    "\n",
    "def parse_date(date):\n",
    "    date = date.replace(\"\\n\", \"$\")\n",
    "    date = date.split(\"$$$$$$$$$$$$$$$$\")[1]\n",
    "    date = date.split(\"$$$$$$$$$\")[0]\n",
    "    date = date.split(\"Gregorian\")[0]\n",
    "\n",
    "    if len(date) == 4:\n",
    "        return datetime.datetime.strptime(date, '%Y')\n",
    "    return  datetime.datetime.strptime(date, '%d %B %Y')\n"
   ],
   "metadata": {
    "collapsed": false,
    "pycharm": {
     "name": "#%%\n"
    }
   }
  },
  {
   "cell_type": "code",
   "execution_count": null,
   "outputs": [],
   "source": [
    "i = 0\n",
    "content = []\n",
    "for index, row in catalog_df.iterrows():\n",
    "    print(index)\n",
    "    path = row[\"path\"]\n",
    "    title = normalize_text(row[\"title\"])\n",
    "    author = row[\"authors\"]\n",
    "    path = \"public_domain_dump-master/txt_stripped\" + path + \".txt\"\n",
    "    with open(path, \"r\", encoding=\"utf-8\") as f:\n",
    "        text = f.read()\n",
    "        text = remove_last_line_from_string(text)\n",
    "        text = remove_author_title(text, author, title)\n",
    "        text = get_only_words_and_digits(text)\n",
    "        content.append(text)\n",
    "    i += 1\n",
    "catalog_df[\"text\"] = content"
   ],
   "metadata": {
    "collapsed": false,
    "pycharm": {
     "name": "#%%\n"
    }
   }
  },
  {
   "cell_type": "code",
   "execution_count": null,
   "outputs": [],
   "source": [
    "def parse_writer(writer, id):\n",
    "    site = pywikibot.Site(\"he\", \"wikipedia\")\n",
    "    page = pywikibot.Page(site, writer)\n",
    "    try:\n",
    "        item = pywikibot.ItemPage.fromPage(page)\n",
    "        page_id = item.id\n",
    "        URL = f\"https://www.wikidata.org/wiki/{page_id}\"\n",
    "    except:\n",
    "\n",
    "        URL = f\"https://he.wikipedia.org/?curid={page.pageid}\"\n",
    "        response = requests.get(URL)\n",
    "        soup = BeautifulSoup(response.text, 'html')\n",
    "        URL = soup.find('a', {'title' : 'קישור לפריט המשויך במאגר הנתונים [g]'})['href']\n",
    "\n",
    "\n",
    "    response = requests.get(URL)\n",
    "    print(response, writer)\n",
    "\n",
    "    soup = BeautifulSoup(response.text, 'html')\n",
    "\n",
    "\n",
    "    try:\n",
    "        sex = soup.find('a', {'title' : 'Q6581097'}).string\n",
    "    except:\n",
    "        sex = \"female\"\n",
    "\n",
    "\n",
    "    place_of_birth = soup.find(\"div\", {\"id\": \"P19\"}).text\n",
    "    try:\n",
    "        place_of_birth = parse_place(place_of_birth)\n",
    "    except:\n",
    "        print(\"p birth - \", sys.exc_info())\n",
    "\n",
    "    place_of_death = soup.find(\"div\", {\"id\": \"P20\"}).text\n",
    "    try:\n",
    "        place_of_death = parse_place(place_of_death)\n",
    "    except:\n",
    "        print(\"p death - \", sys.exc_info())\n",
    "\n",
    "\n",
    "    date_of_birth = soup.find(\"div\", {\"id\": \"P569\"}).text\n",
    "    try:\n",
    "        date_of_birth = parse_date(date_of_birth)\n",
    "    except:\n",
    "        print(\"d birth - \", sys.exc_info())\n",
    "\n",
    "    date_of_death = soup.find(\"div\", {\"id\": \"P570\"}).text\n",
    "    try:\n",
    "        date_of_death = parse_date(date_of_death)\n",
    "    except:\n",
    "        print(\"d death - \", sys.exc_info())\n",
    "\n",
    "    return [id, writer, sex, place_of_birth, place_of_death, date_of_birth, date_of_death]"
   ],
   "metadata": {
    "collapsed": false,
    "pycharm": {
     "name": "#%%\n"
    }
   }
  },
  {
   "cell_type": "code",
   "execution_count": null,
   "outputs": [],
   "source": [
    "writers = catalog_df[\"authors\"].unique()\n",
    "authors_df = pd.DataFrame(columns=[\"id\", \"name\", \"sex\", \"p_birth\", \"p_death\", \"d_birth\", \"d_death\"], )\n",
    "for i, writer in enumerate(writers):\n",
    "    try:\n",
    "        authors_df.loc[i] = parse_writer(writer, i)\n",
    "    except Exception:\n",
    "        authors_df.loc[i] = [i, writer, None, None, None, None, None]\n",
    "        print(sys.exc_info())\n",
    "        print(\"couldn't complete for\", writer, i)\n",
    "print(authors_df)\n",
    "authors_df.to_csv(\"authors\", index=False)"
   ],
   "metadata": {
    "collapsed": false,
    "pycharm": {
     "name": "#%%\n"
    }
   }
  },
  {
   "cell_type": "code",
   "execution_count": 2,
   "outputs": [],
   "source": [
    "def get_year_category(year):\n",
    "    if year <= 500:\n",
    "        return 0\n",
    "    if 500 < year <= 1400:\n",
    "        return 1\n",
    "    if 1400 < year <= 1800:\n",
    "        return 2\n",
    "    if 1800 < year <= 1900:\n",
    "        return 3\n",
    "    return 4"
   ],
   "metadata": {
    "collapsed": false,
    "pycharm": {
     "name": "#%%\n"
    }
   }
  },
  {
   "cell_type": "code",
   "execution_count": 3,
   "outputs": [],
   "source": [
    "from dateutil import parser\n",
    "\n",
    "def get_year(year_str):\n",
    "    try:\n",
    "        if year_str and year_str is not np.nan:\n",
    "            if '0000' in year_str:\n",
    "                return 0\n",
    "            return parser.parse(year_str).year\n",
    "    except:\n",
    "        return None"
   ],
   "metadata": {
    "collapsed": false,
    "pycharm": {
     "name": "#%%\n"
    }
   }
  },
  {
   "cell_type": "code",
   "execution_count": 15,
   "outputs": [
    {
     "name": "stdout",
     "output_type": "stream",
     "text": [
      "אלמוני/ת\n",
      "יוסף בן שמואל צרפתי\n",
      "אינוקנטי אננסקי\n",
      "חיא\n",
      "יצחק בעל “עזרת נשים”\n"
     ]
    }
   ],
   "source": [
    "\n",
    "def parse_authors(df, cities):\n",
    "    data = []\n",
    "    for index, row in df.iterrows():\n",
    "        name = row[\"name\"]\n",
    "        id = row[\"id\"]\n",
    "        male = 1 if row[\"sex\"] == \"male\" else 0\n",
    "        birth_year = get_year(row[\"d_birth\"])\n",
    "        death_year = get_year(row[\"d_death\"])\n",
    "        if birth_year is None or death_year is None:\n",
    "            print(row[\"name\"])\n",
    "            continue\n",
    "        birth = get_year_category(birth_year)\n",
    "        death = get_year_category(death_year)\n",
    "        hebrew_speaker = 1 if \"FALSE\" != row[\"Hebrew Speaker\"] else 0\n",
    "        p_birth_israel = 1 if row[\"p_birth\"] in cities else 0\n",
    "        p_death_israel = 1 if row[\"p_death\"] in cities else 0\n",
    "\n",
    "        data.append([name, id, male, birth, death, hebrew_speaker, p_birth_israel, p_death_israel])\n",
    "    return data\n",
    "\n",
    "\n",
    "\n",
    "\n",
    "poetry_df = pd.read_csv('Data/poetry.csv')\n",
    "poetry_df = poetry_df[poetry_df['genre'] == \"שירה\"]\n",
    "poetry_names = set(poetry_df.authors)\n",
    "authors_df = pd.read_csv('authors.csv')\n",
    "\n",
    "authors_df = authors_df[authors_df['name'].isin(poetry_names)]\n",
    "\n",
    "\n",
    "israeli_cities = [\"Tel Aviv\", \"Jaffa\", \"Jerusalem\", \"Haifa\", \"Nahalal\", \"Acre\", \"Ramat Gan\", \"Givat Hashlosha\",\n",
    "                  \"Rishon LeZion\", \"Petah Tikva\", \"Zikhron Ya'akov\", \"Israel\", \"Mandatory Palestine\"]\n",
    "\n",
    "parsed_authors_data = parse_authors(authors_df, israeli_cities)\n",
    "parsed_authors_df = pd.DataFrame(parsed_authors_data, columns=[\"name\", \"id\", \"male\", \"birth\", \"death\", \"hebrew_speaker\", \"p_birth_israel\", \"p_death_israel\"])"
   ],
   "metadata": {
    "collapsed": false,
    "pycharm": {
     "name": "#%%\n"
    }
   }
  },
  {
   "cell_type": "code",
   "execution_count": 17,
   "outputs": [],
   "source": [
    "parsed_authors_df.to_csv(\"authors_parsed.csv\", index=False)"
   ],
   "metadata": {
    "collapsed": false,
    "pycharm": {
     "name": "#%%\n"
    }
   }
  },
  {
   "cell_type": "code",
   "execution_count": 24,
   "outputs": [
    {
     "data": {
      "text/plain": "                  name   id  male  birth  death  hebrew_speaker  \\\n0     יהודה ליב גורדון    2     1      3      3               1   \n1     יהודה ליב גורדון    2     1      3      3               1   \n2     יהודה ליב גורדון    2     1      3      3               1   \n3     יהודה ליב גורדון    2     1      3      3               1   \n4     יהודה ליב גורדון    2     1      3      3               1   \n...                ...  ...   ...    ...    ...             ...   \n6983     קורנל אוייסקי  445     1      3      3               1   \n6984     קורנל אוייסקי  445     1      3      3               1   \n6985     קורנל אוייסקי  445     1      3      3               1   \n6986         שרה שפירא  450     0      3      4               1   \n6987         שרה שפירא  450     0      3      4               1   \n\n      p_birth_israel  p_death_israel           authors  \\\n0                  0               0  יהודה ליב גורדון   \n1                  0               0  יהודה ליב גורדון   \n2                  0               0  יהודה ליב גורדון   \n3                  0               0  יהודה ליב גורדון   \n4                  0               0  יהודה ליב גורדון   \n...              ...             ...               ...   \n6983               0               0     קורנל אוייסקי   \n6984               0               0     קורנל אוייסקי   \n6985               0               0     קורנל אוייסקי   \n6986               0               0         שרה שפירא   \n6987               0               0         שרה שפירא   \n\n                                                content  \n0        \\t \\t \\t     לידידי הרב החכם רב-הפעלים    מ...  \n1        \\t \\t \\t    נפישי גמלי סבי דטעיני משכי דהוג...  \n2        \\t \\t \\t    [על לוח תמונתו]   לאיס\"י הבבלי,...  \n3        \\t \\t \\t     על אדמת בנימין בעיר בגבע    שם...  \n4        \\t \\t \\t     אחרי גבר חכם יודע    רדף ברחוב...  \n...                                                 ...  \n6983     \\t \\t \\t     מרשפי השמש נשזפתי, השחרתי…  וי...  \n6984     \\t \\t \\t     הכשדים – לדמים כנמרים ישאפו – ...  \n6985     \\t \\t \\t     לו עדי, נאם בלעם, מואבים ישמעו...  \n6986     \\t \\t \\t        1   חושו הצילו, מלטו עניה! ...  \n6987     \\t \\t \\t        1   אל טל ואל מטר – דמעי יר...  \n\n[6988 rows x 10 columns]",
      "text/html": "<div>\n<style scoped>\n    .dataframe tbody tr th:only-of-type {\n        vertical-align: middle;\n    }\n\n    .dataframe tbody tr th {\n        vertical-align: top;\n    }\n\n    .dataframe thead th {\n        text-align: right;\n    }\n</style>\n<table border=\"1\" class=\"dataframe\">\n  <thead>\n    <tr style=\"text-align: right;\">\n      <th></th>\n      <th>name</th>\n      <th>id</th>\n      <th>male</th>\n      <th>birth</th>\n      <th>death</th>\n      <th>hebrew_speaker</th>\n      <th>p_birth_israel</th>\n      <th>p_death_israel</th>\n      <th>authors</th>\n      <th>content</th>\n    </tr>\n  </thead>\n  <tbody>\n    <tr>\n      <th>0</th>\n      <td>יהודה ליב גורדון</td>\n      <td>2</td>\n      <td>1</td>\n      <td>3</td>\n      <td>3</td>\n      <td>1</td>\n      <td>0</td>\n      <td>0</td>\n      <td>יהודה ליב גורדון</td>\n      <td>\\t \\t \\t     לידידי הרב החכם רב-הפעלים    מ...</td>\n    </tr>\n    <tr>\n      <th>1</th>\n      <td>יהודה ליב גורדון</td>\n      <td>2</td>\n      <td>1</td>\n      <td>3</td>\n      <td>3</td>\n      <td>1</td>\n      <td>0</td>\n      <td>0</td>\n      <td>יהודה ליב גורדון</td>\n      <td>\\t \\t \\t    נפישי גמלי סבי דטעיני משכי דהוג...</td>\n    </tr>\n    <tr>\n      <th>2</th>\n      <td>יהודה ליב גורדון</td>\n      <td>2</td>\n      <td>1</td>\n      <td>3</td>\n      <td>3</td>\n      <td>1</td>\n      <td>0</td>\n      <td>0</td>\n      <td>יהודה ליב גורדון</td>\n      <td>\\t \\t \\t    [על לוח תמונתו]   לאיס\"י הבבלי,...</td>\n    </tr>\n    <tr>\n      <th>3</th>\n      <td>יהודה ליב גורדון</td>\n      <td>2</td>\n      <td>1</td>\n      <td>3</td>\n      <td>3</td>\n      <td>1</td>\n      <td>0</td>\n      <td>0</td>\n      <td>יהודה ליב גורדון</td>\n      <td>\\t \\t \\t     על אדמת בנימין בעיר בגבע    שם...</td>\n    </tr>\n    <tr>\n      <th>4</th>\n      <td>יהודה ליב גורדון</td>\n      <td>2</td>\n      <td>1</td>\n      <td>3</td>\n      <td>3</td>\n      <td>1</td>\n      <td>0</td>\n      <td>0</td>\n      <td>יהודה ליב גורדון</td>\n      <td>\\t \\t \\t     אחרי גבר חכם יודע    רדף ברחוב...</td>\n    </tr>\n    <tr>\n      <th>...</th>\n      <td>...</td>\n      <td>...</td>\n      <td>...</td>\n      <td>...</td>\n      <td>...</td>\n      <td>...</td>\n      <td>...</td>\n      <td>...</td>\n      <td>...</td>\n      <td>...</td>\n    </tr>\n    <tr>\n      <th>6983</th>\n      <td>קורנל אוייסקי</td>\n      <td>445</td>\n      <td>1</td>\n      <td>3</td>\n      <td>3</td>\n      <td>1</td>\n      <td>0</td>\n      <td>0</td>\n      <td>קורנל אוייסקי</td>\n      <td>\\t \\t \\t     מרשפי השמש נשזפתי, השחרתי…  וי...</td>\n    </tr>\n    <tr>\n      <th>6984</th>\n      <td>קורנל אוייסקי</td>\n      <td>445</td>\n      <td>1</td>\n      <td>3</td>\n      <td>3</td>\n      <td>1</td>\n      <td>0</td>\n      <td>0</td>\n      <td>קורנל אוייסקי</td>\n      <td>\\t \\t \\t     הכשדים – לדמים כנמרים ישאפו – ...</td>\n    </tr>\n    <tr>\n      <th>6985</th>\n      <td>קורנל אוייסקי</td>\n      <td>445</td>\n      <td>1</td>\n      <td>3</td>\n      <td>3</td>\n      <td>1</td>\n      <td>0</td>\n      <td>0</td>\n      <td>קורנל אוייסקי</td>\n      <td>\\t \\t \\t     לו עדי, נאם בלעם, מואבים ישמעו...</td>\n    </tr>\n    <tr>\n      <th>6986</th>\n      <td>שרה שפירא</td>\n      <td>450</td>\n      <td>0</td>\n      <td>3</td>\n      <td>4</td>\n      <td>1</td>\n      <td>0</td>\n      <td>0</td>\n      <td>שרה שפירא</td>\n      <td>\\t \\t \\t        1   חושו הצילו, מלטו עניה! ...</td>\n    </tr>\n    <tr>\n      <th>6987</th>\n      <td>שרה שפירא</td>\n      <td>450</td>\n      <td>0</td>\n      <td>3</td>\n      <td>4</td>\n      <td>1</td>\n      <td>0</td>\n      <td>0</td>\n      <td>שרה שפירא</td>\n      <td>\\t \\t \\t        1   אל טל ואל מטר – דמעי יר...</td>\n    </tr>\n  </tbody>\n</table>\n<p>6988 rows × 10 columns</p>\n</div>"
     },
     "execution_count": 24,
     "metadata": {},
     "output_type": "execute_result"
    }
   ],
   "source": [
    "poetry_df = poetry_df[[\"authors\", \"content\"]]\n",
    "poetry_df.drop(columns=[\"authors\"])\n",
    "merged_df = parsed_authors_df.merge(poetry_df, left_on=\"name\", right_on=\"authors\")"
   ],
   "metadata": {
    "collapsed": false,
    "pycharm": {
     "name": "#%%\n"
    }
   }
  },
  {
   "cell_type": "code",
   "execution_count": 25,
   "outputs": [
    {
     "data": {
      "text/plain": "                 name   id  male  birth  death  hebrew_speaker  \\\n2154      שמואל הנגיד   32     1      1      1               1   \n5554    יעקב שטיינברג  261     1      3      4               1   \n5048   יצחק אבן כלפון  113     1      1      1               1   \n1401       יהודה הלוי   26     1      1      1               1   \n5303         דוד פוגל  206     1      3      4               1   \n...               ...  ...   ...    ...    ...             ...   \n6972    אברהם בן־יצחק  435     1      3      4               1   \n832      משה אבן עזרא   11     1      1      1               1   \n4839        יעקב לרנר   79     1      3      4               1   \n2726  שלמה אבן גבירול   40     1      1      1               1   \n6840   אברהם בן חלפון  406     1      1      1               1   \n\n      p_birth_israel  p_death_israel          authors  \\\n2154               0               0      שמואל הנגיד   \n5554               0               1    יעקב שטיינברג   \n5048               0               0   יצחק אבן כלפון   \n1401               0               1       יהודה הלוי   \n5303               0               0         דוד פוגל   \n...              ...             ...              ...   \n6972               0               1    אברהם בן־יצחק   \n832                0               0     משה אבן עזרא   \n4839               0               0        יעקב לרנר   \n2726               0               0  שלמה אבן גבירול   \n6840               0               0   אברהם בן חלפון   \n\n                                                content  \n2154     \\t \\t \\t     אם יעשיר איש סכל    הוחל מעט י...  \n5554     \\t \\t \\t    א   בקרב חצות ליל קר ומעט שאון ...  \n5048     \\t \\t \\t     שפטני אלהי הצבאות,    ושמני במ...  \n1401     \\t \\t \\t    יונת רחוקים נדדה יערה / ר'     ...  \n5303     \\t \\t \\t     יומנו החור לאינו למכונות,  עתה...  \n...                                                 ...  \n6972     \\t \\t \\t     שגעון עינים  ולא תנודת רגל  פנ...  \n832      \\t \\t \\t     מאס תבל ואל־יום הפקדה / בכל־עת...  \n4839     \\t \\t \\t    (לזכר אמי)     היא פתחה הדלת כי...  \n2726     \\t \\t \\t     לחולת אהבה נפשי שלולה, / בעולת...  \n6840     \\t \\t \\t    ידידות       והאוהב אשר יהיה מע...  \n\n[4891 rows x 10 columns]",
      "text/html": "<div>\n<style scoped>\n    .dataframe tbody tr th:only-of-type {\n        vertical-align: middle;\n    }\n\n    .dataframe tbody tr th {\n        vertical-align: top;\n    }\n\n    .dataframe thead th {\n        text-align: right;\n    }\n</style>\n<table border=\"1\" class=\"dataframe\">\n  <thead>\n    <tr style=\"text-align: right;\">\n      <th></th>\n      <th>name</th>\n      <th>id</th>\n      <th>male</th>\n      <th>birth</th>\n      <th>death</th>\n      <th>hebrew_speaker</th>\n      <th>p_birth_israel</th>\n      <th>p_death_israel</th>\n      <th>authors</th>\n      <th>content</th>\n    </tr>\n  </thead>\n  <tbody>\n    <tr>\n      <th>2154</th>\n      <td>שמואל הנגיד</td>\n      <td>32</td>\n      <td>1</td>\n      <td>1</td>\n      <td>1</td>\n      <td>1</td>\n      <td>0</td>\n      <td>0</td>\n      <td>שמואל הנגיד</td>\n      <td>\\t \\t \\t     אם יעשיר איש סכל    הוחל מעט י...</td>\n    </tr>\n    <tr>\n      <th>5554</th>\n      <td>יעקב שטיינברג</td>\n      <td>261</td>\n      <td>1</td>\n      <td>3</td>\n      <td>4</td>\n      <td>1</td>\n      <td>0</td>\n      <td>1</td>\n      <td>יעקב שטיינברג</td>\n      <td>\\t \\t \\t    א   בקרב חצות ליל קר ומעט שאון ...</td>\n    </tr>\n    <tr>\n      <th>5048</th>\n      <td>יצחק אבן כלפון</td>\n      <td>113</td>\n      <td>1</td>\n      <td>1</td>\n      <td>1</td>\n      <td>1</td>\n      <td>0</td>\n      <td>0</td>\n      <td>יצחק אבן כלפון</td>\n      <td>\\t \\t \\t     שפטני אלהי הצבאות,    ושמני במ...</td>\n    </tr>\n    <tr>\n      <th>1401</th>\n      <td>יהודה הלוי</td>\n      <td>26</td>\n      <td>1</td>\n      <td>1</td>\n      <td>1</td>\n      <td>1</td>\n      <td>0</td>\n      <td>1</td>\n      <td>יהודה הלוי</td>\n      <td>\\t \\t \\t    יונת רחוקים נדדה יערה / ר'     ...</td>\n    </tr>\n    <tr>\n      <th>5303</th>\n      <td>דוד פוגל</td>\n      <td>206</td>\n      <td>1</td>\n      <td>3</td>\n      <td>4</td>\n      <td>1</td>\n      <td>0</td>\n      <td>0</td>\n      <td>דוד פוגל</td>\n      <td>\\t \\t \\t     יומנו החור לאינו למכונות,  עתה...</td>\n    </tr>\n    <tr>\n      <th>...</th>\n      <td>...</td>\n      <td>...</td>\n      <td>...</td>\n      <td>...</td>\n      <td>...</td>\n      <td>...</td>\n      <td>...</td>\n      <td>...</td>\n      <td>...</td>\n      <td>...</td>\n    </tr>\n    <tr>\n      <th>6972</th>\n      <td>אברהם בן־יצחק</td>\n      <td>435</td>\n      <td>1</td>\n      <td>3</td>\n      <td>4</td>\n      <td>1</td>\n      <td>0</td>\n      <td>1</td>\n      <td>אברהם בן־יצחק</td>\n      <td>\\t \\t \\t     שגעון עינים  ולא תנודת רגל  פנ...</td>\n    </tr>\n    <tr>\n      <th>832</th>\n      <td>משה אבן עזרא</td>\n      <td>11</td>\n      <td>1</td>\n      <td>1</td>\n      <td>1</td>\n      <td>1</td>\n      <td>0</td>\n      <td>0</td>\n      <td>משה אבן עזרא</td>\n      <td>\\t \\t \\t     מאס תבל ואל־יום הפקדה / בכל־עת...</td>\n    </tr>\n    <tr>\n      <th>4839</th>\n      <td>יעקב לרנר</td>\n      <td>79</td>\n      <td>1</td>\n      <td>3</td>\n      <td>4</td>\n      <td>1</td>\n      <td>0</td>\n      <td>0</td>\n      <td>יעקב לרנר</td>\n      <td>\\t \\t \\t    (לזכר אמי)     היא פתחה הדלת כי...</td>\n    </tr>\n    <tr>\n      <th>2726</th>\n      <td>שלמה אבן גבירול</td>\n      <td>40</td>\n      <td>1</td>\n      <td>1</td>\n      <td>1</td>\n      <td>1</td>\n      <td>0</td>\n      <td>0</td>\n      <td>שלמה אבן גבירול</td>\n      <td>\\t \\t \\t     לחולת אהבה נפשי שלולה, / בעולת...</td>\n    </tr>\n    <tr>\n      <th>6840</th>\n      <td>אברהם בן חלפון</td>\n      <td>406</td>\n      <td>1</td>\n      <td>1</td>\n      <td>1</td>\n      <td>1</td>\n      <td>0</td>\n      <td>0</td>\n      <td>אברהם בן חלפון</td>\n      <td>\\t \\t \\t    ידידות       והאוהב אשר יהיה מע...</td>\n    </tr>\n  </tbody>\n</table>\n<p>4891 rows × 10 columns</p>\n</div>"
     },
     "execution_count": 25,
     "metadata": {},
     "output_type": "execute_result"
    }
   ],
   "source": [
    "from sklearn.model_selection import train_test_split\n",
    "\n",
    "train, test = train_test_split(merged_df, test_size=0.3)\n",
    "validation, test = train_test_split(test, train_size=0.5)\n"
   ],
   "metadata": {
    "collapsed": false,
    "pycharm": {
     "name": "#%%\n"
    }
   }
  },
  {
   "cell_type": "code",
   "execution_count": 27,
   "outputs": [],
   "source": [
    "train.to_csv(\"train.csv\")\n",
    "test.to_csv(\"test.csv\")\n",
    "validation.to_csv(\"validation.csv\")\n"
   ],
   "metadata": {
    "collapsed": false,
    "pycharm": {
     "name": "#%%\n"
    }
   }
  },
  {
   "cell_type": "code",
   "execution_count": 34,
   "outputs": [
    {
     "name": "stdout",
     "output_type": "stream",
     "text": [
      "730\n",
      "1049\n"
     ]
    }
   ],
   "source": [
    "print(test[test[\"p_death_israel\"] == 0].shape[0])\n",
    "print(test.shape[0])"
   ],
   "metadata": {
    "collapsed": false,
    "pycharm": {
     "name": "#%%\n"
    }
   }
  }
 ],
 "metadata": {
  "kernelspec": {
   "name": "hebnlp",
   "language": "python",
   "display_name": "hebnlp"
  },
  "language_info": {
   "codemirror_mode": {
    "name": "ipython",
    "version": 2
   },
   "file_extension": ".py",
   "mimetype": "text/x-python",
   "name": "python",
   "nbconvert_exporter": "python",
   "pygments_lexer": "ipython2",
   "version": "2.7.6"
  }
 },
 "nbformat": 4,
 "nbformat_minor": 0
}