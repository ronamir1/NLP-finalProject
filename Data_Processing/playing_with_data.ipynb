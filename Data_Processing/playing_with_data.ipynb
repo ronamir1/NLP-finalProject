{
 "cells": [
  {
   "cell_type": "code",
   "execution_count": 30,
   "metadata": {
    "collapsed": true
   },
   "outputs": [],
   "source": [
    "import pandas as pd\n",
    "from pathlib import Path\n",
    "from collections import Counter\n",
    "import re\n",
    "from corpus_processing import PROCESSED_DATA_PATH, PROCESSED_DATA_PATH_PICKLE\n",
    "import matplotlib.pyplot as plt"
   ]
  },
  {
   "cell_type": "code",
   "execution_count": 26,
   "outputs": [],
   "source": [
    "ONLY_WORDS_AND_DIGITS_REGEX = re.compile(r'[\\w\\dא-ת]+')\n",
    "def get_only_words_and_digits(text: str):\n",
    "    return ONLY_WORDS_AND_DIGITS_REGEX.findall(text)\n",
    "\n",
    "def text_to_word_list(text: str):\n",
    "    return get_only_words_and_digits(text)\n",
    "    #return text.split()\n",
    "\n",
    "def invert_words(words: list):\n",
    "    return [w[::-1] for w in words]"
   ],
   "metadata": {
    "collapsed": false,
    "pycharm": {
     "name": "#%%\n"
    }
   }
  },
  {
   "cell_type": "code",
   "execution_count": 27,
   "outputs": [],
   "source": [
    "def words_count(texts: pd.Series):\n",
    "    texts_split = pd.Series((text_to_word_list(text) for text in texts))\n",
    "\n",
    "    return texts_split.map(lambda x: len(x)).hist()"
   ],
   "metadata": {
    "collapsed": false,
    "pycharm": {
     "name": "#%%\n"
    }
   }
  },
  {
   "cell_type": "code",
   "execution_count": 28,
   "outputs": [],
   "source": [
    "def most_common_words(texts: pd.Series, n: int, stopwords: list = None):\n",
    "    if stopwords is None:\n",
    "\t    stopwords = []\n",
    "    words_counter = Counter()\n",
    "    for text in texts:\n",
    "        for word in text_to_word_list(text):\n",
    "            if word not in stopwords:\n",
    "                words_counter[word] += 1\n",
    "    sorted_word_count = sorted(words_counter.items(), key=lambda x:x[1], reverse=True)\n",
    "    with open(\"word_count_all_text.txt\", 'w', encoding='utf-8') as f:\n",
    "        for item in sorted_word_count:\n",
    "            f.write(item[0] + \" : \" + str(item[1]))\n",
    "            f.write(\"\\n\")\n",
    "    words, count = zip(*sorted_word_count[:n])\n",
    "    words = invert_words(words)\n",
    "    fig = plt.figure(figsize=(15,10))\n",
    "    return plt.bar(words, count)\n"
   ],
   "metadata": {
    "collapsed": false,
    "pycharm": {
     "name": "#%%\n"
    }
   }
  },
  {
   "cell_type": "code",
   "execution_count": 31,
   "outputs": [
    {
     "data": {
      "text/plain": "<BarContainer object of 20 artists>"
     },
     "execution_count": 31,
     "metadata": {},
     "output_type": "execute_result"
    },
    {
     "data": {
      "text/plain": "<Figure size 1080x720 with 1 Axes>",
      "image/png": "[encoded data removed]"
     },
     "metadata": {
      "needs_background": "light"
     },
     "output_type": "display_data"
    }
   ],
   "source": [
    "#df = pd.read_csv(PROCESSED_DATA_PATH)\n",
    "df = pd.read_pickle(PROCESSED_DATA_PATH_PICKLE)\n",
    "\n",
    "most_common_words(df.content, 20)"
   ],
   "metadata": {
    "collapsed": false,
    "pycharm": {
     "name": "#%%\n"
    }
   }
  },
  {
   "cell_type": "code",
   "execution_count": 56,
   "outputs": [],
   "source": [
    "def plot_word_number_histogram(text: pd.Series):\n",
    "    return text.map(lambda x: len(text_to_word_list(x))).hist(bins=50)"
   ],
   "metadata": {
    "collapsed": false,
    "pycharm": {
     "name": "#%%\n"
    }
   }
  },
  {
   "cell_type": "code",
   "execution_count": 62,
   "outputs": [
    {
     "name": "stdout",
     "output_type": "stream",
     "text": [
      "249.855596696098\n"
     ]
    },
    {
     "data": {
      "text/plain": "<Figure size 432x288 with 1 Axes>",
      "image/png": "[encoded data removed]"
     },
     "metadata": {
      "needs_background": "light"
     },
     "output_type": "display_data"
    }
   ],
   "source": [
    "plot_word_number_histogram(df.content)\n",
    "df['words_count'] = df.content.map(lambda x: len(text_to_word_list(x)))\n",
    "df.to_csv(\"words_count.csv\", columns=[\"ID\",\"title\",\"authors\",\"genre\",\"words_count\"])"
   ],
   "metadata": {
    "collapsed": false,
    "pycharm": {
     "name": "#%%\n"
    }
   }
  },
  {
   "cell_type": "code",
   "execution_count": null,
   "outputs": [],
   "source": [
    "import gensim\n",
    "from nltk.stem import WordNetLemmatizer,PorterStemmer\n",
    "import pyLDAvis.gensim\n",
    "\n",
    "\n",
    "def get_lda_objects(text, stop):\n",
    "\n",
    "    def _preprocess_text(text):\n",
    "        corpus=[]\n",
    "        lem=WordNetLemmatizer()\n",
    "        for news in text:\n",
    "            words= text_to_word_list(news)\n",
    "\n",
    "            words=[lem.lemmatize(w) for w in words if len(w)>2]\n",
    "\n",
    "            corpus.append(words)\n",
    "        return corpus\n",
    "\n",
    "    corpus=_preprocess_text(text)\n",
    "\n",
    "    dic=gensim.corpora.Dictionary(corpus)\n",
    "    bow_corpus = [dic.doc2bow(doc) for doc in corpus]\n",
    "\n",
    "    lda_model =  gensim.models.LdaMulticore(bow_corpus,\n",
    "                                   num_topics = 6,\n",
    "                                   id2word = dic,\n",
    "                                   passes = 10,\n",
    "                                   workers = 2)\n",
    "\n",
    "    return lda_model, bow_corpus, dic\n",
    "\n",
    "def plot_lda_vis(lda_model, bow_corpus, dic):\n",
    "    pyLDAvis.enable_notebook()\n",
    "    vis = pyLDAvis.gensim.prepare(lda_model, bow_corpus, dic)\n",
    "    return vis"
   ],
   "metadata": {
    "collapsed": false,
    "pycharm": {
     "name": "#%%\n"
    }
   }
  }
 ],
 "metadata": {
  "kernelspec": {
   "display_name": "Python 3",
   "language": "python",
   "name": "python3"
  },
  "language_info": {
   "codemirror_mode": {
    "name": "ipython",
    "version": 2
   },
   "file_extension": ".py",
   "mimetype": "text/x-python",
   "name": "python",
   "nbconvert_exporter": "python",
   "pygments_lexer": "ipython2",
   "version": "2.7.6"
  }
 },
 "nbformat": 4,
 "nbformat_minor": 0
}