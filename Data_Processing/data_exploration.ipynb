{
 "cells": [
  {
   "cell_type": "markdown",
   "metadata": {},
   "source": [
    "# Exploring the hebrew poetry dataset"
   ]
  },
  {
   "cell_type": "code",
   "execution_count": 4,
   "metadata": {
    "pycharm": {
     "name": "#%%\n"
    }
   },
   "outputs": [],
   "source": [
    "import pandas as pd\n",
    "import numpy as np\n",
    "from pathlib import Path\n",
    "from collections import Counter\n",
    "from poetry_processing import DATA_PATH\n",
    "from prepare_data_set import COMBINED_DATA_PATH_PICKLE, TimePeriods\n",
    "import matplotlib.pyplot as plt"
   ]
  },
  {
   "cell_type": "code",
   "execution_count": 5,
   "metadata": {
    "pycharm": {
     "name": "#%%\n"
    }
   },
   "outputs": [],
   "source": [
    "from poetry_processing import get_only_words_and_digits, invert_words\n",
    "\n",
    "def text_to_word_list(text: str):\n",
    "    return get_only_words_and_digits(text)\n",
    "    #return text.split()"
   ]
  },
  {
   "cell_type": "code",
   "execution_count": 6,
   "metadata": {
    "pycharm": {
     "name": "#%%\n"
    }
   },
   "outputs": [],
   "source": [
    "def words_count(texts: pd.Series):\n",
    "    texts_split = pd.Series((text_to_word_list(text) for text in texts))\n",
    "\n",
    "    return texts_split.map(lambda x: len(x)).hist()"
   ]
  },
  {
   "cell_type": "code",
   "execution_count": 7,
   "metadata": {
    "pycharm": {
     "name": "#%%\n"
    }
   },
   "outputs": [],
   "source": [
    "def most_common_words(texts: pd.Series, n: int, stopwords: list = None):\n",
    "    if stopwords is None:\n",
    "\t    stopwords = []\n",
    "    words_counter = Counter()\n",
    "    for text in texts:\n",
    "        for word in text_to_word_list(text):\n",
    "            if word not in stopwords:\n",
    "                words_counter[word] += 1\n",
    "    sorted_word_count = sorted(words_counter.items(), key=lambda x:x[1], reverse=True)\n",
    "    with open(\"word_count_all_text.txt\", 'w', encoding='utf-8') as f:\n",
    "        for item in sorted_word_count:\n",
    "            f.write(item[0] + \" : \" + str(item[1]))\n",
    "            f.write(\"\\n\")\n",
    "    words, count = zip(*sorted_word_count[:n])\n",
    "    words = invert_words(words)\n",
    "    fig = plt.figure(figsize=(15,10))\n",
    "    return plt.bar(words, count)"
   ]
  },
  {
   "cell_type": "markdown",
   "metadata": {
    "pycharm": {
     "name": "#%% md\n"
    }
   },
   "source": [
    "### data to explore:\n",
    "* how many songs?\n",
    "* Total number of words and sentences, how many at each songs? mean? std?\n",
    "* the most common words?\n",
    "* bi-grams and tri-grams\n",
    "* wordcloud (use tidf)\n",
    "* songs/words/sentences by author? mean? std?\n",
    "* how many songs/words/sentences by men? how may by women?\n",
    "* authors timeline with all life spans.\n",
    "* songs/words/sentences by periods - death and birth\n",
    "* translated songs: how many and compare translator to his other works\n",
    "* songs/words/sentences by author place of birth or death\n",
    "* songs/words/sentences by author in israel in birth or death"
   ]
  },
  {
   "cell_type": "code",
   "execution_count": 17,
   "outputs": [],
   "source": [
    "# load data\n",
    "df = pd.read_pickle(COMBINED_DATA_PATH_PICKLE)\n",
    "df['words_count'] = df.content.map(lambda x: len(text_to_word_list(x)))\n",
    "authors_to_remove = df.loc[df.birth_period.isna()].author.unique()\n",
    "\n",
    "# output path\n",
    "OUTPUT_DIR_PATH = Path(\"eda_output\")\n",
    "if not OUTPUT_DIR_PATH.is_dir():\n",
    "    OUTPUT_DIR_PATH.mkdir(parents=True)"
   ],
   "metadata": {
    "collapsed": false,
    "pycharm": {
     "name": "#%%\n"
    }
   }
  },
  {
   "cell_type": "markdown",
   "metadata": {},
   "source": [
    "### General statistics on the whole corpus"
   ]
  },
  {
   "cell_type": "code",
   "execution_count": 18,
   "metadata": {
    "pycharm": {
     "name": "#%%\n"
    }
   },
   "outputs": [
    {
     "name": "stdout",
     "output_type": "stream",
     "text": [
      "In our dataset there 7,022 poems, from 162 authors.\n",
      "In total there 1,754,486 words in all the poems, 249.856 words in poem at average.\n",
      "There 3 authors that we were unable to find out enough information about.\n",
      "They are: \n",
      "\tאלמוני/ת with 30 poems, that have 30,057 words.\n",
      "\tחיא with 1 poems, that have 97 words.\n",
      "\tיצחק בעל “עזרת נשים” with 1 poems, that have 1,625 words.\n",
      "In total those authors have 32 poems to remove with 31,779 words.\n",
      "(1.81% of the dataset)\n",
      "Because we can't use those authors we have to remove all their poems.\n",
      "We left with 6,990 poems in our dataset, from 159 authors.\n",
      "In total there 1,722,707 words in all the poems, 246.453 words in poem at average.\n",
      "\n"
     ]
    }
   ],
   "source": [
    "print(f\"In our dataset there {df.shape[0]:,} poems, from {len(df.author.unique()):,} authors.\\n\"\n",
    "      f\"In total there {sum(df.words_count):,} words in all the poems, {df.words_count.mean():.3f} words in poem at average.\\n\"\n",
    "      f\"There {len(authors_to_remove):,} authors that we were unable to find out enough information about.\\n\"\n",
    "      f\"They are: \")\n",
    "for author in authors_to_remove:\n",
    "    print(f\"\\t{author} with {len(df.loc[df.author == author]):,} poems, that have {sum(df.loc[df.author == author].words_count):,} words.\")\n",
    "df_to_remove = df.loc[df.birth_period.isna()]\n",
    "print(f\"In total those authors have {df_to_remove.shape[0]:,} poems to remove with {sum(df_to_remove.words_count):,} words.\\n\"\n",
    "      f\"({float(sum(df_to_remove.words_count))/sum(df.words_count):.2%} of the dataset)\")\n",
    "df.dropna(subset=['birth_period', 'death_period'], inplace=True)\n",
    "print(f\"Because we can't use those authors we have to remove all their poems.\\n\"\n",
    "      f\"We left with {df.shape[0]:,} poems in our dataset, from {len(df.author.unique()):,} authors.\\n\"\n",
    "      f\"In total there {sum(df.words_count):,} words in all the poems, {df.words_count.mean():.3f} words in poem at average.\\n\")"
   ]
  },
  {
   "cell_type": "markdown",
   "source": [
    "### word cloud"
   ],
   "metadata": {
    "collapsed": false,
    "pycharm": {
     "name": "#%% md\n"
    }
   }
  },
  {
   "cell_type": "code",
   "execution_count": 20,
   "outputs": [
    {
     "data": {
      "text/plain": "<Figure size 432x288 with 0 Axes>"
     },
     "execution_count": 20,
     "metadata": {},
     "output_type": "execute_result"
    },
    {
     "data": {
      "text/plain": "<Figure size 432x288 with 1 Axes>",
      "image/png": "[encoded data removed]"
     },
     "metadata": {
      "needs_background": "light"
     },
     "output_type": "display_data"
    },
    {
     "data": {
      "text/plain": "<Figure size 432x288 with 0 Axes>"
     },
     "metadata": {},
     "output_type": "display_data"
    }
   ],
   "source": [
    "from wordcloud import WordCloud\n",
    "from heb_stop_words import STOP_WORDS # using spaCy hebrew stop words\n",
    "WORD_CLOUD_FONT_PATH = Path(\"C:\") / \"WindowsFonts\" / \"david.ttf\"\n",
    "\n",
    "def create_word_cloud_from_corpus(poems: pd.Series, png_output: Path):\n",
    "    stop_words = set(invert_words(STOP_WORDS))\n",
    "    wordcloud = WordCloud(font_path=str(WORD_CLOUD_FONT_PATH), width=2000, height=1000, stopwords=stop_words,\n",
    "                          background_color=\"white\")\n",
    "    wordcloud.generate(\" \".join(text[::-1] for text in poems))\n",
    "    plt.imshow(wordcloud, interpolation=\"bilinear\")\n",
    "    plt.axis(\"off\")\n",
    "    wordcloud.to_file(png_output)\n",
    "    return plt.figure()\n",
    "\n",
    "create_word_cloud_from_corpus(df.content, OUTPUT_DIR_PATH / \"corpus_word_cloud.png\")"
   ],
   "metadata": {
    "collapsed": false,
    "pycharm": {
     "name": "#%%\n"
    }
   }
  },
  {
   "cell_type": "code",
   "execution_count": 6,
   "metadata": {
    "pycharm": {
     "name": "#%%\n"
    }
   },
   "outputs": [],
   "source": [
    "def plot_word_number_histogram(text: pd.Series):\n",
    "    return text.map(lambda x: len(text_to_word_list(x))).hist(bins=50)"
   ]
  },
  {
   "cell_type": "code",
   "execution_count": 7,
   "metadata": {
    "pycharm": {
     "name": "#%%\n"
    }
   },
   "outputs": [
    {
     "data": {
      "image/png": "[encoded data removed]",
      "text/plain": [
       "<Figure size 432x288 with 1 Axes>"
      ]
     },
     "metadata": {
      "needs_background": "light"
     },
     "output_type": "display_data"
    }
   ],
   "source": [
    "plot_word_number_histogram(df.content)\n",
    "df['words_count'] = df.content.map(lambda x: len(text_to_word_list(x)))\n",
    "df.to_csv(OUTPUT_DIR_PATH / \"words_count.csv\", columns=[\"ID\",\"title\",\"authors\",\"genre\",\"words_count\"])"
   ]
  },
  {
   "cell_type": "code",
   "execution_count": 9,
   "metadata": {
    "pycharm": {
     "name": "#%%\n"
    }
   },
   "outputs": [
    {
     "name": "stderr",
     "output_type": "stream",
     "text": [
      "C:\\ProgramData\\Anaconda3\\envs\\final_project\\lib\\site-packages\\ipykernel\\ipkernel.py:287: DeprecationWarning: `should_run_async` will not call `transform_cell` automatically in the future. Please pass the result to `transformed_cell` argument and any exception that happen during thetransform in `preprocessing_exc_tuple` in IPython 7.17 and above.\n",
      "  and should_run_async(code)\n"
     ]
    }
   ],
   "source": [
    "STOP_WORDS_FILE_PATH = DATA_PATH / Path(\"heb_stopwords.txt\")\n",
    "def get_stop_words() -> list:\n",
    "    with open(STOP_WORDS_FILE_PATH, 'r') as file:\n",
    "        result = [line.strip() for line in file]\n",
    "    return result\n"
   ]
  },
  {
   "cell_type": "code",
   "execution_count": 10,
   "metadata": {
    "pycharm": {
     "name": "#%%\n"
    }
   },
   "outputs": [
    {
     "name": "stderr",
     "output_type": "stream",
     "text": [
      "C:\\ProgramData\\Anaconda3\\envs\\final_project\\lib\\site-packages\\ipykernel\\ipkernel.py:287: DeprecationWarning: `should_run_async` will not call `transform_cell` automatically in the future. Please pass the result to `transformed_cell` argument and any exception that happen during thetransform in `preprocessing_exc_tuple` in IPython 7.17 and above.\n",
      "  and should_run_async(code)\n"
     ]
    }
   ],
   "source": [
    "#lda_model, bow_corpus, dic = get_lda_objects(df.content)\n",
    "#lda_model.show_topics()"
   ]
  },
  {
   "cell_type": "code",
   "execution_count": 11,
   "metadata": {
    "pycharm": {
     "name": "#%%\n"
    }
   },
   "outputs": [
    {
     "name": "stderr",
     "output_type": "stream",
     "text": [
      "C:\\ProgramData\\Anaconda3\\envs\\final_project\\lib\\site-packages\\ipykernel\\ipkernel.py:287: DeprecationWarning: `should_run_async` will not call `transform_cell` automatically in the future. Please pass the result to `transformed_cell` argument and any exception that happen during thetransform in `preprocessing_exc_tuple` in IPython 7.17 and above.\n",
      "  and should_run_async(code)\n"
     ]
    }
   ],
   "source": [
    "#plot_lda_vis(lda_model, bow_corpus, dic)"
   ]
  },
  {
   "cell_type": "code",
   "execution_count": 13,
   "metadata": {
    "pycharm": {
     "name": "#%%\n"
    }
   },
   "outputs": [],
   "source": [
    "from dateutil import parser\n",
    "\n",
    "def get_year(year_str):\n",
    "    try:\n",
    "        if year_str and year_str is not np.nan:\n",
    "            if '0000' in year_str:\n",
    "                return 0\n",
    "            return parser.parse(year_str).year\n",
    "    except:\n",
    "        return None\n",
    "\n",
    "israel_cities = {\"Tel Aviv\", \"Jaffa\", \"Jerusalem\", \"Haifa\", \"Nahalal\", \"Acre\", \"Ramat Gan\", \"Givat Hashlosha\",\n",
    "                 \"Rishon LeZion\", \"Petah Tikva\", \"Zikhron Ya'akov\", \"Israel\", \"Mandatory Palestine\"}\n",
    "ancient_period = range(-2000, 500)\n",
    "spain_period = range(500, 1400)\n",
    "renaissance_period = range(1400, 1800)\n",
    "nineteenth_century = range(1800, 1900)\n",
    "twentieth_century = range(1900, 2000)\n",
    "modern_times = range(2000, 2100)\n",
    "\n",
    "def parse_authors(df : pd.DataFrame, cities : set):\n",
    "    df[\"hebrew_speaker\"] = df[\"Hebrew Speaker\"].fillna(True).apply(lambda x: 1 if x else 0)\n",
    "    df[\"p_birth_israel\"] = df[\"p_birth\"].apply(lambda x: 1 if x in cities else 0)\n",
    "    df[\"p_death_israel\"] = df[\"p_death\"].apply(lambda x: 1 if x in cities else 0)\n",
    "    birth_year = []\n",
    "    death_year = []\n",
    "    for index, row in df.iterrows():\n",
    "        birth_year.append(get_year(row[\"d_birth\"]))\n",
    "        death_year.append(get_year(row[\"d_death\"]))\n",
    "        if birth_year[-1] is None or death_year[-1] is None:\n",
    "            print(f\"{row.name} don't have valid birth or death date.\")\n",
    "    df[\"b_year\"] = birth_year\n",
    "    df[\"d_year\"] = death_year\n",
    "\n",
    "    df[\"b_ancient\"] = df[\"b_year\"].apply(lambda x: 1 if x in ancient_period else 0)\n",
    "    df[\"b_spain\"] = df[\"b_year\"].apply(lambda x: 1 if x in spain_period else 0)\n",
    "    df[\"b_renaissance\"] = df[\"b_year\"].apply(lambda x: 1 if x in renaissance_period else 0)\n",
    "    df[\"b_19ct\"] = df[\"b_year\"].apply(lambda x: 1 if x in nineteenth_century else 0)\n",
    "    df[\"b_20ct\"] = df[\"b_year\"].apply(lambda x: 1 if x in twentieth_century else 0)\n",
    "    df[\"b_modern\"] = df[\"b_year\"].apply(lambda x: 1 if x in modern_times else 0)\n",
    "\n",
    "    df[\"d_ancient\"] = df[\"d_year\"].apply(lambda x: 1 if x in ancient_period else 0)\n",
    "    df[\"d_spain\"] = df[\"d_year\"].apply(lambda x: 1 if x in spain_period else 0)\n",
    "    df[\"d_renaissance\"] = df[\"d_year\"].apply(lambda x: 1 if x in renaissance_period else 0)\n",
    "    df[\"d_19ct\"] = df[\"d_year\"].apply(lambda x: 1 if x in nineteenth_century else 0)\n",
    "    df[\"d_20ct\"] = df[\"d_year\"].apply(lambda x: 1 if x in twentieth_century else 0)\n",
    "    df[\"d_modern\"] = df[\"d_year\"].apply(lambda x: 1 if x in modern_times else 0)\n",
    "    return df"
   ]
  },
  {
   "cell_type": "code",
   "execution_count": 14,
   "metadata": {
    "pycharm": {
     "name": "#%%\n"
    }
   },
   "outputs": [
    {
     "name": "stdout",
     "output_type": "stream",
     "text": [
      "אלמוני/ת don't have valid birth or death date.\n",
      "יוסף בן שמואל צרפתי don't have valid birth or death date.\n",
      "יצחק בעל “עזרת נשים” don't have valid birth or death date.\n",
      "חיא don't have valid birth or death date.\n",
      "אינוקנטי אננסקי don't have valid birth or death date.\n"
     ]
    },
    {
     "data": {
      "text/html": [
       "<div>\n",
       "<style scoped>\n",
       "    .dataframe tbody tr th:only-of-type {\n",
       "        vertical-align: middle;\n",
       "    }\n",
       "\n",
       "    .dataframe tbody tr th {\n",
       "        vertical-align: top;\n",
       "    }\n",
       "\n",
       "    .dataframe thead th {\n",
       "        text-align: right;\n",
       "    }\n",
       "</style>\n",
       "<table border=\"1\" class=\"dataframe\">\n",
       "  <thead>\n",
       "    <tr style=\"text-align: right;\">\n",
       "      <th></th>\n",
       "      <th>id</th>\n",
       "      <th>sex</th>\n",
       "      <th>p_birth</th>\n",
       "      <th>p_death</th>\n",
       "      <th>d_birth</th>\n",
       "      <th>d_death</th>\n",
       "      <th>Hebrew Speaker</th>\n",
       "      <th>hebrew_speaker</th>\n",
       "      <th>p_birth_israel</th>\n",
       "      <th>p_death_israel</th>\n",
       "      <th>...</th>\n",
       "      <th>b_renaissance</th>\n",
       "      <th>b_19ct</th>\n",
       "      <th>b_20ct</th>\n",
       "      <th>b_modern</th>\n",
       "      <th>d_ancient</th>\n",
       "      <th>d_spain</th>\n",
       "      <th>d_renaissance</th>\n",
       "      <th>d_19ct</th>\n",
       "      <th>d_20ct</th>\n",
       "      <th>d_modern</th>\n",
       "    </tr>\n",
       "  </thead>\n",
       "  <tbody>\n",
       "    <tr>\n",
       "      <th>הומרוס</th>\n",
       "      <td>195</td>\n",
       "      <td>male</td>\n",
       "      <td>Smyrna$$$$$$$$1 reference$$$$$$stated in$$$$$F...</td>\n",
       "      <td>Ios$$$$$$$$1 reference$$$$$$imported from Wiki...</td>\n",
       "      <td>0000-08-05</td>\n",
       "      <td>0000-08-05</td>\n",
       "      <td>False</td>\n",
       "      <td>0</td>\n",
       "      <td>0</td>\n",
       "      <td>0</td>\n",
       "      <td>...</td>\n",
       "      <td>0</td>\n",
       "      <td>0</td>\n",
       "      <td>0</td>\n",
       "      <td>0</td>\n",
       "      <td>1</td>\n",
       "      <td>0</td>\n",
       "      <td>0</td>\n",
       "      <td>0</td>\n",
       "      <td>0</td>\n",
       "      <td>0</td>\n",
       "    </tr>\n",
       "    <tr>\n",
       "      <th>שאול טשרניחובסקי</th>\n",
       "      <td>16</td>\n",
       "      <td>male</td>\n",
       "      <td>Mykhailivka</td>\n",
       "      <td>Jerusalem</td>\n",
       "      <td>1875-08-20</td>\n",
       "      <td>1943-10-14</td>\n",
       "      <td>NaN</td>\n",
       "      <td>1</td>\n",
       "      <td>0</td>\n",
       "      <td>1</td>\n",
       "      <td>...</td>\n",
       "      <td>0</td>\n",
       "      <td>1</td>\n",
       "      <td>0</td>\n",
       "      <td>0</td>\n",
       "      <td>0</td>\n",
       "      <td>0</td>\n",
       "      <td>0</td>\n",
       "      <td>0</td>\n",
       "      <td>1</td>\n",
       "      <td>0</td>\n",
       "    </tr>\n",
       "    <tr>\n",
       "      <th>עמנואל הרומי</th>\n",
       "      <td>107</td>\n",
       "      <td>male</td>\n",
       "      <td>Rome</td>\n",
       "      <td>Fermo</td>\n",
       "      <td>1260-01-01</td>\n",
       "      <td>1328-01-01</td>\n",
       "      <td>NaN</td>\n",
       "      <td>1</td>\n",
       "      <td>0</td>\n",
       "      <td>0</td>\n",
       "      <td>...</td>\n",
       "      <td>0</td>\n",
       "      <td>0</td>\n",
       "      <td>0</td>\n",
       "      <td>0</td>\n",
       "      <td>0</td>\n",
       "      <td>1</td>\n",
       "      <td>0</td>\n",
       "      <td>0</td>\n",
       "      <td>0</td>\n",
       "      <td>0</td>\n",
       "    </tr>\n",
       "    <tr>\n",
       "      <th>שלמה אבן גבירול</th>\n",
       "      <td>40</td>\n",
       "      <td>male</td>\n",
       "      <td>M?laga</td>\n",
       "      <td>Valencia</td>\n",
       "      <td>1021-01-01</td>\n",
       "      <td>11/18/1057</td>\n",
       "      <td>NaN</td>\n",
       "      <td>1</td>\n",
       "      <td>0</td>\n",
       "      <td>0</td>\n",
       "      <td>...</td>\n",
       "      <td>0</td>\n",
       "      <td>0</td>\n",
       "      <td>0</td>\n",
       "      <td>0</td>\n",
       "      <td>0</td>\n",
       "      <td>1</td>\n",
       "      <td>0</td>\n",
       "      <td>0</td>\n",
       "      <td>0</td>\n",
       "      <td>0</td>\n",
       "    </tr>\n",
       "    <tr>\n",
       "      <th>אברהם אבן עזרא</th>\n",
       "      <td>46</td>\n",
       "      <td>male</td>\n",
       "      <td>Tudela</td>\n",
       "      <td>Tudela</td>\n",
       "      <td>1089-01-01</td>\n",
       "      <td>1167-10-15</td>\n",
       "      <td>NaN</td>\n",
       "      <td>1</td>\n",
       "      <td>0</td>\n",
       "      <td>0</td>\n",
       "      <td>...</td>\n",
       "      <td>0</td>\n",
       "      <td>0</td>\n",
       "      <td>0</td>\n",
       "      <td>0</td>\n",
       "      <td>0</td>\n",
       "      <td>1</td>\n",
       "      <td>0</td>\n",
       "      <td>0</td>\n",
       "      <td>0</td>\n",
       "      <td>0</td>\n",
       "    </tr>\n",
       "    <tr>\n",
       "      <th>יהודה ליב גורדון</th>\n",
       "      <td>2</td>\n",
       "      <td>male</td>\n",
       "      <td>Vilnius</td>\n",
       "      <td>Saint Petersburg</td>\n",
       "      <td>1830-12-07</td>\n",
       "      <td>1892-09-16</td>\n",
       "      <td>NaN</td>\n",
       "      <td>1</td>\n",
       "      <td>0</td>\n",
       "      <td>0</td>\n",
       "      <td>...</td>\n",
       "      <td>0</td>\n",
       "      <td>1</td>\n",
       "      <td>0</td>\n",
       "      <td>0</td>\n",
       "      <td>0</td>\n",
       "      <td>0</td>\n",
       "      <td>0</td>\n",
       "      <td>1</td>\n",
       "      <td>0</td>\n",
       "      <td>0</td>\n",
       "    </tr>\n",
       "    <tr>\n",
       "      <th>יהודה הלוי</th>\n",
       "      <td>26</td>\n",
       "      <td>male</td>\n",
       "      <td>Tudela</td>\n",
       "      <td>Jerusalem</td>\n",
       "      <td>1079-01-01</td>\n",
       "      <td>1141-01-01</td>\n",
       "      <td>NaN</td>\n",
       "      <td>1</td>\n",
       "      <td>0</td>\n",
       "      <td>1</td>\n",
       "      <td>...</td>\n",
       "      <td>0</td>\n",
       "      <td>0</td>\n",
       "      <td>0</td>\n",
       "      <td>0</td>\n",
       "      <td>0</td>\n",
       "      <td>1</td>\n",
       "      <td>0</td>\n",
       "      <td>0</td>\n",
       "      <td>0</td>\n",
       "      <td>0</td>\n",
       "    </tr>\n",
       "    <tr>\n",
       "      <th>ג'ון מילטון</th>\n",
       "      <td>397</td>\n",
       "      <td>male</td>\n",
       "      <td>Cheapside$$$$$$$$located in the administrative...</td>\n",
       "      <td>London</td>\n",
       "      <td>1608-01-01</td>\n",
       "      <td>1674-01-01</td>\n",
       "      <td>False</td>\n",
       "      <td>0</td>\n",
       "      <td>0</td>\n",
       "      <td>0</td>\n",
       "      <td>...</td>\n",
       "      <td>1</td>\n",
       "      <td>0</td>\n",
       "      <td>0</td>\n",
       "      <td>0</td>\n",
       "      <td>0</td>\n",
       "      <td>0</td>\n",
       "      <td>1</td>\n",
       "      <td>0</td>\n",
       "      <td>0</td>\n",
       "      <td>0</td>\n",
       "    </tr>\n",
       "    <tr>\n",
       "      <th>חיים נחמן ביאליק</th>\n",
       "      <td>6</td>\n",
       "      <td>male</td>\n",
       "      <td>Hrada</td>\n",
       "      <td>Vienna</td>\n",
       "      <td>1873-12-07</td>\n",
       "      <td>1934-07-04</td>\n",
       "      <td>NaN</td>\n",
       "      <td>1</td>\n",
       "      <td>0</td>\n",
       "      <td>0</td>\n",
       "      <td>...</td>\n",
       "      <td>0</td>\n",
       "      <td>1</td>\n",
       "      <td>0</td>\n",
       "      <td>0</td>\n",
       "      <td>0</td>\n",
       "      <td>0</td>\n",
       "      <td>0</td>\n",
       "      <td>0</td>\n",
       "      <td>1</td>\n",
       "      <td>0</td>\n",
       "    </tr>\n",
       "    <tr>\n",
       "      <th>שמואל הנגיד</th>\n",
       "      <td>32</td>\n",
       "      <td>male</td>\n",
       "      <td>C?rdoba</td>\n",
       "      <td>Granada</td>\n",
       "      <td>0933-06-09</td>\n",
       "      <td>1055-06-09</td>\n",
       "      <td>NaN</td>\n",
       "      <td>1</td>\n",
       "      <td>0</td>\n",
       "      <td>0</td>\n",
       "      <td>...</td>\n",
       "      <td>0</td>\n",
       "      <td>0</td>\n",
       "      <td>0</td>\n",
       "      <td>0</td>\n",
       "      <td>0</td>\n",
       "      <td>1</td>\n",
       "      <td>0</td>\n",
       "      <td>0</td>\n",
       "      <td>0</td>\n",
       "      <td>0</td>\n",
       "    </tr>\n",
       "  </tbody>\n",
       "</table>\n",
       "<p>10 rows × 24 columns</p>\n",
       "</div>"
      ],
      "text/plain": [
       "                   id   sex  \\\n",
       "הומרוס            195  male   \n",
       "שאול טשרניחובסקי   16  male   \n",
       "עמנואל הרומי      107  male   \n",
       "שלמה אבן גבירול    40  male   \n",
       "אברהם אבן עזרא     46  male   \n",
       "יהודה ליב גורדון    2  male   \n",
       "יהודה הלוי         26  male   \n",
       "ג'ון מילטון       397  male   \n",
       "חיים נחמן ביאליק    6  male   \n",
       "שמואל הנגיד        32  male   \n",
       "\n",
       "                                                            p_birth  \\\n",
       "הומרוס            Smyrna$$$$$$$$1 reference$$$$$$stated in$$$$$F...   \n",
       "שאול טשרניחובסקי                                        Mykhailivka   \n",
       "עמנואל הרומי                                                   Rome   \n",
       "שלמה אבן גבירול                                              M?laga   \n",
       "אברהם אבן עזרא                                               Tudela   \n",
       "יהודה ליב גורדון                                            Vilnius   \n",
       "יהודה הלוי                                                   Tudela   \n",
       "ג'ון מילטון       Cheapside$$$$$$$$located in the administrative...   \n",
       "חיים נחמן ביאליק                                              Hrada   \n",
       "שמואל הנגיד                                                 C?rdoba   \n",
       "\n",
       "                                                            p_death  \\\n",
       "הומרוס            Ios$$$$$$$$1 reference$$$$$$imported from Wiki...   \n",
       "שאול טשרניחובסקי                                          Jerusalem   \n",
       "עמנואל הרומי                                                  Fermo   \n",
       "שלמה אבן גבירול                                            Valencia   \n",
       "אברהם אבן עזרא                                               Tudela   \n",
       "יהודה ליב גורדון                                   Saint Petersburg   \n",
       "יהודה הלוי                                                Jerusalem   \n",
       "ג'ון מילטון                                                  London   \n",
       "חיים נחמן ביאליק                                             Vienna   \n",
       "שמואל הנגיד                                                 Granada   \n",
       "\n",
       "                     d_birth       d_death Hebrew Speaker  hebrew_speaker  \\\n",
       "הומרוס            0000-08-05    0000-08-05          False               0   \n",
       "שאול טשרניחובסקי  1875-08-20    1943-10-14            NaN               1   \n",
       "עמנואל הרומי      1260-01-01    1328-01-01            NaN               1   \n",
       "שלמה אבן גבירול   1021-01-01  11/18/1057              NaN               1   \n",
       "אברהם אבן עזרא    1089-01-01    1167-10-15            NaN               1   \n",
       "יהודה ליב גורדון  1830-12-07    1892-09-16            NaN               1   \n",
       "יהודה הלוי        1079-01-01    1141-01-01            NaN               1   \n",
       "ג'ון מילטון       1608-01-01    1674-01-01          False               0   \n",
       "חיים נחמן ביאליק  1873-12-07    1934-07-04            NaN               1   \n",
       "שמואל הנגיד       0933-06-09    1055-06-09            NaN               1   \n",
       "\n",
       "                  p_birth_israel  p_death_israel  ...  b_renaissance  b_19ct  \\\n",
       "הומרוס                         0               0  ...              0       0   \n",
       "שאול טשרניחובסקי               0               1  ...              0       1   \n",
       "עמנואל הרומי                   0               0  ...              0       0   \n",
       "שלמה אבן גבירול                0               0  ...              0       0   \n",
       "אברהם אבן עזרא                 0               0  ...              0       0   \n",
       "יהודה ליב גורדון               0               0  ...              0       1   \n",
       "יהודה הלוי                     0               1  ...              0       0   \n",
       "ג'ון מילטון                    0               0  ...              1       0   \n",
       "חיים נחמן ביאליק               0               0  ...              0       1   \n",
       "שמואל הנגיד                    0               0  ...              0       0   \n",
       "\n",
       "                  b_20ct  b_modern  d_ancient  d_spain  d_renaissance  d_19ct  \\\n",
       "הומרוס                 0         0          1        0              0       0   \n",
       "שאול טשרניחובסקי       0         0          0        0              0       0   \n",
       "עמנואל הרומי           0         0          0        1              0       0   \n",
       "שלמה אבן גבירול        0         0          0        1              0       0   \n",
       "אברהם אבן עזרא         0         0          0        1              0       0   \n",
       "יהודה ליב גורדון       0         0          0        0              0       1   \n",
       "יהודה הלוי             0         0          0        1              0       0   \n",
       "ג'ון מילטון            0         0          0        0              1       0   \n",
       "חיים נחמן ביאליק       0         0          0        0              0       0   \n",
       "שמואל הנגיד            0         0          0        1              0       0   \n",
       "\n",
       "                  d_20ct  d_modern  \n",
       "הומרוס                 0         0  \n",
       "שאול טשרניחובסקי       1         0  \n",
       "עמנואל הרומי           0         0  \n",
       "שלמה אבן גבירול        0         0  \n",
       "אברהם אבן עזרא         0         0  \n",
       "יהודה ליב גורדון       0         0  \n",
       "יהודה הלוי             0         0  \n",
       "ג'ון מילטון            0         0  \n",
       "חיים נחמן ביאליק       1         0  \n",
       "שמואל הנגיד            0         0  \n",
       "\n",
       "[10 rows x 24 columns]"
      ]
     },
     "execution_count": 14,
     "metadata": {},
     "output_type": "execute_result"
    }
   ],
   "source": [
    "from corpus_processing import DATA_PATH\n",
    "authors_stats_df_path = DATA_PATH / Path(\"authors_processed/authors_stats.pkl.gz\")\n",
    "\n",
    "authors_data_frame = pd.read_pickle(authors_stats_df_path).drop(columns=[\"songs_count\", \"sentence_count\", \"words_count\", \"words_total\", \"words_mean\", \"sentence_total\", \"sentence_mean\"])\n",
    "data = parse_authors(authors_data_frame,israel_cities)\n",
    "authors_data_frame.head(10)"
   ]
  },
  {
   "cell_type": "code",
   "execution_count": 15,
   "metadata": {
    "pycharm": {
     "name": "#%%\n"
    }
   },
   "outputs": [
    {
     "data": {
      "text/html": [
       "<div>\n",
       "<style scoped>\n",
       "    .dataframe tbody tr th:only-of-type {\n",
       "        vertical-align: middle;\n",
       "    }\n",
       "\n",
       "    .dataframe tbody tr th {\n",
       "        vertical-align: top;\n",
       "    }\n",
       "\n",
       "    .dataframe thead th {\n",
       "        text-align: right;\n",
       "    }\n",
       "</style>\n",
       "<table border=\"1\" class=\"dataframe\">\n",
       "  <thead>\n",
       "    <tr style=\"text-align: right;\">\n",
       "      <th></th>\n",
       "      <th>index</th>\n",
       "      <th>ID</th>\n",
       "      <th>path</th>\n",
       "      <th>title</th>\n",
       "      <th>authors</th>\n",
       "      <th>translators</th>\n",
       "      <th>original_language</th>\n",
       "      <th>genre</th>\n",
       "      <th>source_edition</th>\n",
       "      <th>content</th>\n",
       "      <th>...</th>\n",
       "      <th>b_renaissance</th>\n",
       "      <th>b_19ct</th>\n",
       "      <th>b_20ct</th>\n",
       "      <th>b_modern</th>\n",
       "      <th>d_ancient</th>\n",
       "      <th>d_spain</th>\n",
       "      <th>d_renaissance</th>\n",
       "      <th>d_19ct</th>\n",
       "      <th>d_20ct</th>\n",
       "      <th>d_modern</th>\n",
       "    </tr>\n",
       "  </thead>\n",
       "  <tbody>\n",
       "    <tr>\n",
       "      <th>0</th>\n",
       "      <td>2</td>\n",
       "      <td>16</td>\n",
       "      <td>/p46/m16</td>\n",
       "      <td>לידידי הרב החכם רב-הפעלים</td>\n",
       "      <td>יהודה ליב גורדון</td>\n",
       "      <td>NaN</td>\n",
       "      <td>NaN</td>\n",
       "      <td>שירה</td>\n",
       "      <td>NaN</td>\n",
       "      <td>\\t \\t \\t     לידידי הרב החכם רב-הפעלים    מ...</td>\n",
       "      <td>...</td>\n",
       "      <td>0</td>\n",
       "      <td>1</td>\n",
       "      <td>0</td>\n",
       "      <td>0</td>\n",
       "      <td>0</td>\n",
       "      <td>0</td>\n",
       "      <td>0</td>\n",
       "      <td>1</td>\n",
       "      <td>0</td>\n",
       "      <td>0</td>\n",
       "    </tr>\n",
       "    <tr>\n",
       "      <th>1</th>\n",
       "      <td>5</td>\n",
       "      <td>19</td>\n",
       "      <td>/p141/m19</td>\n",
       "      <td>הֲלָךְ נֶפֶשׁ</td>\n",
       "      <td>רחל בלובשטיין</td>\n",
       "      <td>NaN</td>\n",
       "      <td>NaN</td>\n",
       "      <td>שירה</td>\n",
       "      <td>NaN</td>\n",
       "      <td>\\t \\t \\t    לא. ד. גורדון        היום הלך ו...</td>\n",
       "      <td>...</td>\n",
       "      <td>0</td>\n",
       "      <td>1</td>\n",
       "      <td>0</td>\n",
       "      <td>0</td>\n",
       "      <td>0</td>\n",
       "      <td>0</td>\n",
       "      <td>0</td>\n",
       "      <td>0</td>\n",
       "      <td>1</td>\n",
       "      <td>0</td>\n",
       "    </tr>\n",
       "    <tr>\n",
       "      <th>2</th>\n",
       "      <td>6</td>\n",
       "      <td>20</td>\n",
       "      <td>/p89/m20</td>\n",
       "      <td>אל הציפור</td>\n",
       "      <td>חיים נחמן ביאליק</td>\n",
       "      <td>NaN</td>\n",
       "      <td>NaN</td>\n",
       "      <td>שירה</td>\n",
       "      <td>NaN</td>\n",
       "      <td>\\t \\t \\t     שלום רב שובך, צפרה נחמדת,  מאר...</td>\n",
       "      <td>...</td>\n",
       "      <td>0</td>\n",
       "      <td>1</td>\n",
       "      <td>0</td>\n",
       "      <td>0</td>\n",
       "      <td>0</td>\n",
       "      <td>0</td>\n",
       "      <td>0</td>\n",
       "      <td>0</td>\n",
       "      <td>1</td>\n",
       "      <td>0</td>\n",
       "    </tr>\n",
       "    <tr>\n",
       "      <th>3</th>\n",
       "      <td>7</td>\n",
       "      <td>21</td>\n",
       "      <td>/p89/m21</td>\n",
       "      <td>מִשּׁוּט בַּמֶּרְחַקִּים</td>\n",
       "      <td>חיים נחמן ביאליק</td>\n",
       "      <td>NaN</td>\n",
       "      <td>NaN</td>\n",
       "      <td>שירה</td>\n",
       "      <td>NaN</td>\n",
       "      <td>\\t \\t \\t     משוט במרחקים, ממקומות נדדתי,  ...</td>\n",
       "      <td>...</td>\n",
       "      <td>0</td>\n",
       "      <td>1</td>\n",
       "      <td>0</td>\n",
       "      <td>0</td>\n",
       "      <td>0</td>\n",
       "      <td>0</td>\n",
       "      <td>0</td>\n",
       "      <td>0</td>\n",
       "      <td>1</td>\n",
       "      <td>0</td>\n",
       "    </tr>\n",
       "    <tr>\n",
       "      <th>4</th>\n",
       "      <td>8</td>\n",
       "      <td>22</td>\n",
       "      <td>/p67/m22</td>\n",
       "      <td>בורגני וחלוץ עני: זמר לעם</td>\n",
       "      <td>קדיש יהודה סילמן</td>\n",
       "      <td>NaN</td>\n",
       "      <td>NaN</td>\n",
       "      <td>שירה</td>\n",
       "      <td>NaN</td>\n",
       "      <td>\\t \\t \\t    לשיר בנגון אקדמות   אלף – אבטיח...</td>\n",
       "      <td>...</td>\n",
       "      <td>0</td>\n",
       "      <td>1</td>\n",
       "      <td>0</td>\n",
       "      <td>0</td>\n",
       "      <td>0</td>\n",
       "      <td>0</td>\n",
       "      <td>0</td>\n",
       "      <td>0</td>\n",
       "      <td>1</td>\n",
       "      <td>0</td>\n",
       "    </tr>\n",
       "    <tr>\n",
       "      <th>5</th>\n",
       "      <td>9</td>\n",
       "      <td>23</td>\n",
       "      <td>/p89/m23</td>\n",
       "      <td>הִרְהוּרֵי לָיְלָה</td>\n",
       "      <td>חיים נחמן ביאליק</td>\n",
       "      <td>NaN</td>\n",
       "      <td>NaN</td>\n",
       "      <td>שירה</td>\n",
       "      <td>NaN</td>\n",
       "      <td>\\t \\t \\t     ידעתי כי בכיי –בכי כוס בין חרב...</td>\n",
       "      <td>...</td>\n",
       "      <td>0</td>\n",
       "      <td>1</td>\n",
       "      <td>0</td>\n",
       "      <td>0</td>\n",
       "      <td>0</td>\n",
       "      <td>0</td>\n",
       "      <td>0</td>\n",
       "      <td>0</td>\n",
       "      <td>1</td>\n",
       "      <td>0</td>\n",
       "    </tr>\n",
       "    <tr>\n",
       "      <th>6</th>\n",
       "      <td>10</td>\n",
       "      <td>24</td>\n",
       "      <td>/p89/m24</td>\n",
       "      <td>על אילת השחר</td>\n",
       "      <td>חיים נחמן ביאליק</td>\n",
       "      <td>NaN</td>\n",
       "      <td>NaN</td>\n",
       "      <td>שירה</td>\n",
       "      <td>NaN</td>\n",
       "      <td>\\t \\t \\t    מאורה על־פי נוסח ספרד       נחש...</td>\n",
       "      <td>...</td>\n",
       "      <td>0</td>\n",
       "      <td>1</td>\n",
       "      <td>0</td>\n",
       "      <td>0</td>\n",
       "      <td>0</td>\n",
       "      <td>0</td>\n",
       "      <td>0</td>\n",
       "      <td>0</td>\n",
       "      <td>1</td>\n",
       "      <td>0</td>\n",
       "    </tr>\n",
       "    <tr>\n",
       "      <th>7</th>\n",
       "      <td>11</td>\n",
       "      <td>25</td>\n",
       "      <td>/p89/m25</td>\n",
       "      <td>בִּתְשׁוּבָתִי</td>\n",
       "      <td>חיים נחמן ביאליק</td>\n",
       "      <td>NaN</td>\n",
       "      <td>NaN</td>\n",
       "      <td>שירה</td>\n",
       "      <td>NaN</td>\n",
       "      <td>\\t \\t \\t     שוב לפני: זקן בלה,  פנים צמקים...</td>\n",
       "      <td>...</td>\n",
       "      <td>0</td>\n",
       "      <td>1</td>\n",
       "      <td>0</td>\n",
       "      <td>0</td>\n",
       "      <td>0</td>\n",
       "      <td>0</td>\n",
       "      <td>0</td>\n",
       "      <td>0</td>\n",
       "      <td>1</td>\n",
       "      <td>0</td>\n",
       "    </tr>\n",
       "    <tr>\n",
       "      <th>8</th>\n",
       "      <td>14</td>\n",
       "      <td>31</td>\n",
       "      <td>/p14/m31</td>\n",
       "      <td>[שד הרמון]</td>\n",
       "      <td>אברהם שטרן</td>\n",
       "      <td>NaN</td>\n",
       "      <td>NaN</td>\n",
       "      <td>שירה</td>\n",
       "      <td>NaN</td>\n",
       "      <td>\\t \\t \\t     שד הרמון הכף עפקת.    הגו נצמד...</td>\n",
       "      <td>...</td>\n",
       "      <td>0</td>\n",
       "      <td>0</td>\n",
       "      <td>1</td>\n",
       "      <td>0</td>\n",
       "      <td>0</td>\n",
       "      <td>0</td>\n",
       "      <td>0</td>\n",
       "      <td>0</td>\n",
       "      <td>1</td>\n",
       "      <td>0</td>\n",
       "    </tr>\n",
       "    <tr>\n",
       "      <th>9</th>\n",
       "      <td>15</td>\n",
       "      <td>32</td>\n",
       "      <td>/p170/m32</td>\n",
       "      <td>[כִּסְעִיף הֲדַס תִּטֶּה צְבִיָּה]</td>\n",
       "      <td>משה אבן עזרא</td>\n",
       "      <td>NaN</td>\n",
       "      <td>NaN</td>\n",
       "      <td>שירה</td>\n",
       "      <td>NaN</td>\n",
       "      <td>\\t \\t \\t     כסעיף הדס תטה צביה עת / תרקד ו...</td>\n",
       "      <td>...</td>\n",
       "      <td>0</td>\n",
       "      <td>0</td>\n",
       "      <td>0</td>\n",
       "      <td>0</td>\n",
       "      <td>0</td>\n",
       "      <td>1</td>\n",
       "      <td>0</td>\n",
       "      <td>0</td>\n",
       "      <td>0</td>\n",
       "      <td>0</td>\n",
       "    </tr>\n",
       "  </tbody>\n",
       "</table>\n",
       "<p>10 rows × 35 columns</p>\n",
       "</div>"
      ],
      "text/plain": [
       "   index  ID       path                               title           authors  \\\n",
       "0      2  16   /p46/m16           לידידי הרב החכם רב-הפעלים  יהודה ליב גורדון   \n",
       "1      5  19  /p141/m19                       הֲלָךְ נֶפֶשׁ     רחל בלובשטיין   \n",
       "2      6  20   /p89/m20                           אל הציפור  חיים נחמן ביאליק   \n",
       "3      7  21   /p89/m21            מִשּׁוּט בַּמֶּרְחַקִּים  חיים נחמן ביאליק   \n",
       "4      8  22   /p67/m22           בורגני וחלוץ עני: זמר לעם  קדיש יהודה סילמן   \n",
       "5      9  23   /p89/m23                  הִרְהוּרֵי לָיְלָה  חיים נחמן ביאליק   \n",
       "6     10  24   /p89/m24                        על אילת השחר  חיים נחמן ביאליק   \n",
       "7     11  25   /p89/m25                      בִּתְשׁוּבָתִי  חיים נחמן ביאליק   \n",
       "8     14  31   /p14/m31                          [שד הרמון]        אברהם שטרן   \n",
       "9     15  32  /p170/m32  [כִּסְעִיף הֲדַס תִּטֶּה צְבִיָּה]      משה אבן עזרא   \n",
       "\n",
       "  translators original_language genre source_edition  \\\n",
       "0         NaN               NaN  שירה            NaN   \n",
       "1         NaN               NaN  שירה            NaN   \n",
       "2         NaN               NaN  שירה            NaN   \n",
       "3         NaN               NaN  שירה            NaN   \n",
       "4         NaN               NaN  שירה            NaN   \n",
       "5         NaN               NaN  שירה            NaN   \n",
       "6         NaN               NaN  שירה            NaN   \n",
       "7         NaN               NaN  שירה            NaN   \n",
       "8         NaN               NaN  שירה            NaN   \n",
       "9         NaN               NaN  שירה            NaN   \n",
       "\n",
       "                                             content  ... b_renaissance  \\\n",
       "0     \\t \\t \\t     לידידי הרב החכם רב-הפעלים    מ...  ...             0   \n",
       "1     \\t \\t \\t    לא. ד. גורדון        היום הלך ו...  ...             0   \n",
       "2     \\t \\t \\t     שלום רב שובך, צפרה נחמדת,  מאר...  ...             0   \n",
       "3     \\t \\t \\t     משוט במרחקים, ממקומות נדדתי,  ...  ...             0   \n",
       "4     \\t \\t \\t    לשיר בנגון אקדמות   אלף – אבטיח...  ...             0   \n",
       "5     \\t \\t \\t     ידעתי כי בכיי –בכי כוס בין חרב...  ...             0   \n",
       "6     \\t \\t \\t    מאורה על־פי נוסח ספרד       נחש...  ...             0   \n",
       "7     \\t \\t \\t     שוב לפני: זקן בלה,  פנים צמקים...  ...             0   \n",
       "8     \\t \\t \\t     שד הרמון הכף עפקת.    הגו נצמד...  ...             0   \n",
       "9     \\t \\t \\t     כסעיף הדס תטה צביה עת / תרקד ו...  ...             0   \n",
       "\n",
       "   b_19ct b_20ct b_modern d_ancient d_spain d_renaissance d_19ct  d_20ct  \\\n",
       "0       1      0        0         0       0             0      1       0   \n",
       "1       1      0        0         0       0             0      0       1   \n",
       "2       1      0        0         0       0             0      0       1   \n",
       "3       1      0        0         0       0             0      0       1   \n",
       "4       1      0        0         0       0             0      0       1   \n",
       "5       1      0        0         0       0             0      0       1   \n",
       "6       1      0        0         0       0             0      0       1   \n",
       "7       1      0        0         0       0             0      0       1   \n",
       "8       0      1        0         0       0             0      0       1   \n",
       "9       0      0        0         0       1             0      0       0   \n",
       "\n",
       "   d_modern  \n",
       "0         0  \n",
       "1         0  \n",
       "2         0  \n",
       "3         0  \n",
       "4         0  \n",
       "5         0  \n",
       "6         0  \n",
       "7         0  \n",
       "8         0  \n",
       "9         0  \n",
       "\n",
       "[10 rows x 35 columns]"
      ]
     },
     "execution_count": 15,
     "metadata": {},
     "output_type": "execute_result"
    }
   ],
   "source": [
    "# combine the authors data with songs data\n",
    "\n",
    "combined_df = df.merge(authors_data_frame, how=\"left\", right_index=True, left_on=\"authors\")\n",
    "combined_df.head(10)"
   ]
  },
  {
   "cell_type": "code",
   "execution_count": 17,
   "metadata": {
    "pycharm": {
     "name": "#%%\n"
    }
   },
   "outputs": [
    {
     "name": "stdout",
     "output_type": "stream",
     "text": [
      "The total number of songs 7022\n",
      "The number of songs from ancient period 40 - 40\n",
      "The number of songs from spain period 3051 - 2908\n",
      "The number of songs from renaissance period 402 - 396\n",
      "The number of songs from 19ct period 3139 - 579\n",
      "The number of songs from 20ct period 357 - 3064\n",
      "The number of songs from modern period 0 - 1\n"
     ]
    }
   ],
   "source": [
    "# some periods data:\n",
    "print(f\"The total number of songs {combined_df.shape[0]}\\n\"\n",
    "      f\"The number of songs from ancient period {combined_df.b_ancient.sum()} - {combined_df.d_ancient.sum()}\\n\"\n",
    "      f\"The number of songs from spain period {combined_df.b_spain.sum()} - {combined_df.d_spain.sum()}\\n\"\n",
    "      f\"The number of songs from renaissance period {combined_df.b_renaissance.sum()} - {combined_df.d_renaissance.sum()}\\n\"\n",
    "      f\"The number of songs from 19ct period {combined_df.b_19ct.sum()} - {combined_df.d_19ct.sum()}\\n\"\n",
    "      f\"The number of songs from 20ct period {combined_df.b_20ct.sum()} - {combined_df.d_20ct.sum()}\\n\"\n",
    "      f\"The number of songs from modern period {combined_df.b_modern.sum()} - {combined_df.d_modern.sum()}\")"
   ]
  },
  {
   "cell_type": "markdown",
   "metadata": {
    "pycharm": {
     "name": "#%% md\n"
    }
   },
   "source": [
    "## test data on with twentieth_century songs"
   ]
  },
  {
   "cell_type": "code",
   "execution_count": 1,
   "metadata": {
    "pycharm": {
     "name": "#%%\n"
    }
   },
   "outputs": [
    {
     "ename": "NameError",
     "evalue": "name 'combined_df' is not defined",
     "output_type": "error",
     "traceback": [
      "\u001B[1;31m---------------------------------------------------------------------------\u001B[0m",
      "\u001B[1;31mNameError\u001B[0m                                 Traceback (most recent call last)",
      "\u001B[1;32m<ipython-input-1-b1fe6c12efe9>\u001B[0m in \u001B[0;36m<module>\u001B[1;34m\u001B[0m\n\u001B[0;32m      1\u001B[0m \u001B[1;32mfrom\u001B[0m \u001B[0msklearn\u001B[0m\u001B[1;33m.\u001B[0m\u001B[0mmodel_selection\u001B[0m \u001B[1;32mimport\u001B[0m \u001B[0mtrain_test_split\u001B[0m\u001B[1;33m\u001B[0m\u001B[1;33m\u001B[0m\u001B[0m\n\u001B[0;32m      2\u001B[0m \u001B[1;33m\u001B[0m\u001B[0m\n\u001B[1;32m----> 3\u001B[1;33m \u001B[0mX\u001B[0m \u001B[1;33m=\u001B[0m \u001B[0mcombined_df\u001B[0m\u001B[1;33m.\u001B[0m\u001B[0mcontent\u001B[0m\u001B[1;33m\u001B[0m\u001B[1;33m\u001B[0m\u001B[0m\n\u001B[0m\u001B[0;32m      4\u001B[0m \u001B[0my\u001B[0m \u001B[1;33m=\u001B[0m \u001B[0mcombined_df\u001B[0m\u001B[1;33m.\u001B[0m\u001B[0md_renaissance\u001B[0m\u001B[1;33m\u001B[0m\u001B[1;33m\u001B[0m\u001B[0m\n\u001B[0;32m      5\u001B[0m \u001B[1;33m\u001B[0m\u001B[0m\n",
      "\u001B[1;31mNameError\u001B[0m: name 'combined_df' is not defined"
     ]
    }
   ],
   "source": [
    "from sklearn.model_selection import train_test_split\n",
    "\n",
    "X = combined_df.content\n",
    "y = combined_df.d_renaissance\n",
    "\n",
    "X_train, X_test, y_train, y_test = train_test_split(X, y, test_size=0.1)\n",
    "print(f\"Test set has {len(X_train)} samples, and test have {len(X_test)}\")\n",
    "print(f\"In train set there {y_train.sum()} songs from renaissance\\n\"\n",
    "      f\"In test set there {y_test.sum()} songs from renaissance\")"
   ]
  },
  {
   "cell_type": "markdown",
   "metadata": {},
   "source": [
    "## run the pipeline:"
   ]
  },
  {
   "cell_type": "code",
   "execution_count": 21,
   "metadata": {
    "pycharm": {
     "name": "#%%\n"
    }
   },
   "outputs": [
    {
     "name": "stderr",
     "output_type": "stream",
     "text": [
      "C:\\ProgramData\\Anaconda3\\envs\\final_project\\lib\\site-packages\\ipykernel\\ipkernel.py:287: DeprecationWarning: `should_run_async` will not call `transform_cell` automatically in the future. Please pass the result to `transformed_cell` argument and any exception that happen during thetransform in `preprocessing_exc_tuple` in IPython 7.17 and above.\n",
      "  and should_run_async(code)\n"
     ]
    },
    {
     "ename": "ValueError",
     "evalue": "Input contains NaN",
     "output_type": "error",
     "traceback": [
      "\u001B[1;31m---------------------------------------------------------------------------\u001B[0m",
      "\u001B[1;31mValueError\u001B[0m                                Traceback (most recent call last)",
      "\u001B[1;32m<ipython-input-21-a5d1d8b9430a>\u001B[0m in \u001B[0;36m<module>\u001B[1;34m\u001B[0m\n\u001B[0;32m     15\u001B[0m                  ('algo', algo)])\n\u001B[0;32m     16\u001B[0m \u001B[1;33m\u001B[0m\u001B[0m\n\u001B[1;32m---> 17\u001B[1;33m \u001B[0mpipe\u001B[0m\u001B[1;33m.\u001B[0m\u001B[0mfit\u001B[0m\u001B[1;33m(\u001B[0m\u001B[0mX_train\u001B[0m\u001B[1;33m,\u001B[0m \u001B[0my_train\u001B[0m\u001B[1;33m)\u001B[0m\u001B[1;33m\u001B[0m\u001B[1;33m\u001B[0m\u001B[0m\n\u001B[0m\u001B[0;32m     18\u001B[0m \u001B[0mprediction\u001B[0m \u001B[1;33m=\u001B[0m \u001B[0mpipe\u001B[0m\u001B[1;33m.\u001B[0m\u001B[0mpredict\u001B[0m\u001B[1;33m(\u001B[0m\u001B[0mX_test\u001B[0m\u001B[1;33m)\u001B[0m\u001B[1;33m\u001B[0m\u001B[1;33m\u001B[0m\u001B[0m\n\u001B[0;32m     19\u001B[0m \u001B[0mplot_confusion_matrix\u001B[0m\u001B[1;33m(\u001B[0m\u001B[0mpipe\u001B[0m\u001B[1;33m,\u001B[0m \u001B[0mX_test\u001B[0m\u001B[1;33m,\u001B[0m \u001B[0my_test\u001B[0m\u001B[1;33m)\u001B[0m\u001B[1;33m\u001B[0m\u001B[1;33m\u001B[0m\u001B[0m\n",
      "\u001B[1;32mC:\\ProgramData\\Anaconda3\\envs\\final_project\\lib\\site-packages\\sklearn\\pipeline.py\u001B[0m in \u001B[0;36mfit\u001B[1;34m(self, X, y, **fit_params)\u001B[0m\n\u001B[0;32m    344\u001B[0m             \u001B[1;32mif\u001B[0m \u001B[0mself\u001B[0m\u001B[1;33m.\u001B[0m\u001B[0m_final_estimator\u001B[0m \u001B[1;33m!=\u001B[0m \u001B[1;34m'passthrough'\u001B[0m\u001B[1;33m:\u001B[0m\u001B[1;33m\u001B[0m\u001B[1;33m\u001B[0m\u001B[0m\n\u001B[0;32m    345\u001B[0m                 \u001B[0mfit_params_last_step\u001B[0m \u001B[1;33m=\u001B[0m \u001B[0mfit_params_steps\u001B[0m\u001B[1;33m[\u001B[0m\u001B[0mself\u001B[0m\u001B[1;33m.\u001B[0m\u001B[0msteps\u001B[0m\u001B[1;33m[\u001B[0m\u001B[1;33m-\u001B[0m\u001B[1;36m1\u001B[0m\u001B[1;33m]\u001B[0m\u001B[1;33m[\u001B[0m\u001B[1;36m0\u001B[0m\u001B[1;33m]\u001B[0m\u001B[1;33m]\u001B[0m\u001B[1;33m\u001B[0m\u001B[1;33m\u001B[0m\u001B[0m\n\u001B[1;32m--> 346\u001B[1;33m                 \u001B[0mself\u001B[0m\u001B[1;33m.\u001B[0m\u001B[0m_final_estimator\u001B[0m\u001B[1;33m.\u001B[0m\u001B[0mfit\u001B[0m\u001B[1;33m(\u001B[0m\u001B[0mXt\u001B[0m\u001B[1;33m,\u001B[0m \u001B[0my\u001B[0m\u001B[1;33m,\u001B[0m \u001B[1;33m**\u001B[0m\u001B[0mfit_params_last_step\u001B[0m\u001B[1;33m)\u001B[0m\u001B[1;33m\u001B[0m\u001B[1;33m\u001B[0m\u001B[0m\n\u001B[0m\u001B[0;32m    347\u001B[0m \u001B[1;33m\u001B[0m\u001B[0m\n\u001B[0;32m    348\u001B[0m         \u001B[1;32mreturn\u001B[0m \u001B[0mself\u001B[0m\u001B[1;33m\u001B[0m\u001B[1;33m\u001B[0m\u001B[0m\n",
      "\u001B[1;32mC:\\ProgramData\\Anaconda3\\envs\\final_project\\lib\\site-packages\\sklearn\\ensemble\\_forest.py\u001B[0m in \u001B[0;36mfit\u001B[1;34m(self, X, y, sample_weight)\u001B[0m\n\u001B[0;32m    302\u001B[0m                 \u001B[1;34m\"sparse multilabel-indicator for y is not supported.\"\u001B[0m\u001B[1;33m\u001B[0m\u001B[1;33m\u001B[0m\u001B[0m\n\u001B[0;32m    303\u001B[0m             )\n\u001B[1;32m--> 304\u001B[1;33m         X, y = self._validate_data(X, y, multi_output=True,\n\u001B[0m\u001B[0;32m    305\u001B[0m                                    accept_sparse=\"csc\", dtype=DTYPE)\n\u001B[0;32m    306\u001B[0m         \u001B[1;32mif\u001B[0m \u001B[0msample_weight\u001B[0m \u001B[1;32mis\u001B[0m \u001B[1;32mnot\u001B[0m \u001B[1;32mNone\u001B[0m\u001B[1;33m:\u001B[0m\u001B[1;33m\u001B[0m\u001B[1;33m\u001B[0m\u001B[0m\n",
      "\u001B[1;32mC:\\ProgramData\\Anaconda3\\envs\\final_project\\lib\\site-packages\\sklearn\\base.py\u001B[0m in \u001B[0;36m_validate_data\u001B[1;34m(self, X, y, reset, validate_separately, **check_params)\u001B[0m\n\u001B[0;32m    431\u001B[0m                 \u001B[0my\u001B[0m \u001B[1;33m=\u001B[0m \u001B[0mcheck_array\u001B[0m\u001B[1;33m(\u001B[0m\u001B[0my\u001B[0m\u001B[1;33m,\u001B[0m \u001B[1;33m**\u001B[0m\u001B[0mcheck_y_params\u001B[0m\u001B[1;33m)\u001B[0m\u001B[1;33m\u001B[0m\u001B[1;33m\u001B[0m\u001B[0m\n\u001B[0;32m    432\u001B[0m             \u001B[1;32melse\u001B[0m\u001B[1;33m:\u001B[0m\u001B[1;33m\u001B[0m\u001B[1;33m\u001B[0m\u001B[0m\n\u001B[1;32m--> 433\u001B[1;33m                 \u001B[0mX\u001B[0m\u001B[1;33m,\u001B[0m \u001B[0my\u001B[0m \u001B[1;33m=\u001B[0m \u001B[0mcheck_X_y\u001B[0m\u001B[1;33m(\u001B[0m\u001B[0mX\u001B[0m\u001B[1;33m,\u001B[0m \u001B[0my\u001B[0m\u001B[1;33m,\u001B[0m \u001B[1;33m**\u001B[0m\u001B[0mcheck_params\u001B[0m\u001B[1;33m)\u001B[0m\u001B[1;33m\u001B[0m\u001B[1;33m\u001B[0m\u001B[0m\n\u001B[0m\u001B[0;32m    434\u001B[0m             \u001B[0mout\u001B[0m \u001B[1;33m=\u001B[0m \u001B[0mX\u001B[0m\u001B[1;33m,\u001B[0m \u001B[0my\u001B[0m\u001B[1;33m\u001B[0m\u001B[1;33m\u001B[0m\u001B[0m\n\u001B[0;32m    435\u001B[0m \u001B[1;33m\u001B[0m\u001B[0m\n",
      "\u001B[1;32mC:\\ProgramData\\Anaconda3\\envs\\final_project\\lib\\site-packages\\sklearn\\utils\\validation.py\u001B[0m in \u001B[0;36minner_f\u001B[1;34m(*args, **kwargs)\u001B[0m\n\u001B[0;32m     61\u001B[0m             \u001B[0mextra_args\u001B[0m \u001B[1;33m=\u001B[0m \u001B[0mlen\u001B[0m\u001B[1;33m(\u001B[0m\u001B[0margs\u001B[0m\u001B[1;33m)\u001B[0m \u001B[1;33m-\u001B[0m \u001B[0mlen\u001B[0m\u001B[1;33m(\u001B[0m\u001B[0mall_args\u001B[0m\u001B[1;33m)\u001B[0m\u001B[1;33m\u001B[0m\u001B[1;33m\u001B[0m\u001B[0m\n\u001B[0;32m     62\u001B[0m             \u001B[1;32mif\u001B[0m \u001B[0mextra_args\u001B[0m \u001B[1;33m<=\u001B[0m \u001B[1;36m0\u001B[0m\u001B[1;33m:\u001B[0m\u001B[1;33m\u001B[0m\u001B[1;33m\u001B[0m\u001B[0m\n\u001B[1;32m---> 63\u001B[1;33m                 \u001B[1;32mreturn\u001B[0m \u001B[0mf\u001B[0m\u001B[1;33m(\u001B[0m\u001B[1;33m*\u001B[0m\u001B[0margs\u001B[0m\u001B[1;33m,\u001B[0m \u001B[1;33m**\u001B[0m\u001B[0mkwargs\u001B[0m\u001B[1;33m)\u001B[0m\u001B[1;33m\u001B[0m\u001B[1;33m\u001B[0m\u001B[0m\n\u001B[0m\u001B[0;32m     64\u001B[0m \u001B[1;33m\u001B[0m\u001B[0m\n\u001B[0;32m     65\u001B[0m             \u001B[1;31m# extra_args > 0\u001B[0m\u001B[1;33m\u001B[0m\u001B[1;33m\u001B[0m\u001B[1;33m\u001B[0m\u001B[0m\n",
      "\u001B[1;32mC:\\ProgramData\\Anaconda3\\envs\\final_project\\lib\\site-packages\\sklearn\\utils\\validation.py\u001B[0m in \u001B[0;36mcheck_X_y\u001B[1;34m(X, y, accept_sparse, accept_large_sparse, dtype, order, copy, force_all_finite, ensure_2d, allow_nd, multi_output, ensure_min_samples, ensure_min_features, y_numeric, estimator)\u001B[0m\n\u001B[0;32m    878\u001B[0m                     estimator=estimator)\n\u001B[0;32m    879\u001B[0m     \u001B[1;32mif\u001B[0m \u001B[0mmulti_output\u001B[0m\u001B[1;33m:\u001B[0m\u001B[1;33m\u001B[0m\u001B[1;33m\u001B[0m\u001B[0m\n\u001B[1;32m--> 880\u001B[1;33m         y = check_array(y, accept_sparse='csr', force_all_finite=True,\n\u001B[0m\u001B[0;32m    881\u001B[0m                         ensure_2d=False, dtype=None)\n\u001B[0;32m    882\u001B[0m     \u001B[1;32melse\u001B[0m\u001B[1;33m:\u001B[0m\u001B[1;33m\u001B[0m\u001B[1;33m\u001B[0m\u001B[0m\n",
      "\u001B[1;32mC:\\ProgramData\\Anaconda3\\envs\\final_project\\lib\\site-packages\\sklearn\\utils\\validation.py\u001B[0m in \u001B[0;36minner_f\u001B[1;34m(*args, **kwargs)\u001B[0m\n\u001B[0;32m     61\u001B[0m             \u001B[0mextra_args\u001B[0m \u001B[1;33m=\u001B[0m \u001B[0mlen\u001B[0m\u001B[1;33m(\u001B[0m\u001B[0margs\u001B[0m\u001B[1;33m)\u001B[0m \u001B[1;33m-\u001B[0m \u001B[0mlen\u001B[0m\u001B[1;33m(\u001B[0m\u001B[0mall_args\u001B[0m\u001B[1;33m)\u001B[0m\u001B[1;33m\u001B[0m\u001B[1;33m\u001B[0m\u001B[0m\n\u001B[0;32m     62\u001B[0m             \u001B[1;32mif\u001B[0m \u001B[0mextra_args\u001B[0m \u001B[1;33m<=\u001B[0m \u001B[1;36m0\u001B[0m\u001B[1;33m:\u001B[0m\u001B[1;33m\u001B[0m\u001B[1;33m\u001B[0m\u001B[0m\n\u001B[1;32m---> 63\u001B[1;33m                 \u001B[1;32mreturn\u001B[0m \u001B[0mf\u001B[0m\u001B[1;33m(\u001B[0m\u001B[1;33m*\u001B[0m\u001B[0margs\u001B[0m\u001B[1;33m,\u001B[0m \u001B[1;33m**\u001B[0m\u001B[0mkwargs\u001B[0m\u001B[1;33m)\u001B[0m\u001B[1;33m\u001B[0m\u001B[1;33m\u001B[0m\u001B[0m\n\u001B[0m\u001B[0;32m     64\u001B[0m \u001B[1;33m\u001B[0m\u001B[0m\n\u001B[0;32m     65\u001B[0m             \u001B[1;31m# extra_args > 0\u001B[0m\u001B[1;33m\u001B[0m\u001B[1;33m\u001B[0m\u001B[1;33m\u001B[0m\u001B[0m\n",
      "\u001B[1;32mC:\\ProgramData\\Anaconda3\\envs\\final_project\\lib\\site-packages\\sklearn\\utils\\validation.py\u001B[0m in \u001B[0;36mcheck_array\u001B[1;34m(array, accept_sparse, accept_large_sparse, dtype, order, copy, force_all_finite, ensure_2d, allow_nd, ensure_min_samples, ensure_min_features, estimator)\u001B[0m\n\u001B[0;32m    718\u001B[0m \u001B[1;33m\u001B[0m\u001B[0m\n\u001B[0;32m    719\u001B[0m         \u001B[1;32mif\u001B[0m \u001B[0mforce_all_finite\u001B[0m\u001B[1;33m:\u001B[0m\u001B[1;33m\u001B[0m\u001B[1;33m\u001B[0m\u001B[0m\n\u001B[1;32m--> 720\u001B[1;33m             _assert_all_finite(array,\n\u001B[0m\u001B[0;32m    721\u001B[0m                                allow_nan=force_all_finite == 'allow-nan')\n\u001B[0;32m    722\u001B[0m \u001B[1;33m\u001B[0m\u001B[0m\n",
      "\u001B[1;32mC:\\ProgramData\\Anaconda3\\envs\\final_project\\lib\\site-packages\\sklearn\\utils\\validation.py\u001B[0m in \u001B[0;36m_assert_all_finite\u001B[1;34m(X, allow_nan, msg_dtype)\u001B[0m\n\u001B[0;32m    109\u001B[0m     \u001B[1;32melif\u001B[0m \u001B[0mX\u001B[0m\u001B[1;33m.\u001B[0m\u001B[0mdtype\u001B[0m \u001B[1;33m==\u001B[0m \u001B[0mnp\u001B[0m\u001B[1;33m.\u001B[0m\u001B[0mdtype\u001B[0m\u001B[1;33m(\u001B[0m\u001B[1;34m'object'\u001B[0m\u001B[1;33m)\u001B[0m \u001B[1;32mand\u001B[0m \u001B[1;32mnot\u001B[0m \u001B[0mallow_nan\u001B[0m\u001B[1;33m:\u001B[0m\u001B[1;33m\u001B[0m\u001B[1;33m\u001B[0m\u001B[0m\n\u001B[0;32m    110\u001B[0m         \u001B[1;32mif\u001B[0m \u001B[0m_object_dtype_isnan\u001B[0m\u001B[1;33m(\u001B[0m\u001B[0mX\u001B[0m\u001B[1;33m)\u001B[0m\u001B[1;33m.\u001B[0m\u001B[0many\u001B[0m\u001B[1;33m(\u001B[0m\u001B[1;33m)\u001B[0m\u001B[1;33m:\u001B[0m\u001B[1;33m\u001B[0m\u001B[1;33m\u001B[0m\u001B[0m\n\u001B[1;32m--> 111\u001B[1;33m             \u001B[1;32mraise\u001B[0m \u001B[0mValueError\u001B[0m\u001B[1;33m(\u001B[0m\u001B[1;34m\"Input contains NaN\"\u001B[0m\u001B[1;33m)\u001B[0m\u001B[1;33m\u001B[0m\u001B[1;33m\u001B[0m\u001B[0m\n\u001B[0m\u001B[0;32m    112\u001B[0m \u001B[1;33m\u001B[0m\u001B[0m\n\u001B[0;32m    113\u001B[0m \u001B[1;33m\u001B[0m\u001B[0m\n",
      "\u001B[1;31mValueError\u001B[0m: Input contains NaN"
     ]
    }
   ],
   "source": [
    "from sklearn.pipeline import Pipeline\n",
    "from sklearn.feature_extraction.text import CountVectorizer, TfidfTransformer\n",
    "from sklearn.linear_model import LogisticRegression\n",
    "from sklearn.ensemble import RandomForestClassifier\n",
    "from sklearn.metrics import plot_confusion_matrix\n",
    "import matplotlib.pyplot as plt\n",
    "\n",
    "vectorizer=CountVectorizer(ngram_range=(1,2))\n",
    "transformer=TfidfTransformer(use_idf=False)\n",
    "algo=RandomForestClassifier()\n",
    "\n",
    "pipe = Pipeline([('vectorizer', vectorizer),\n",
    "                 ('transformer', transformer),\n",
    "                 #('feature_select', SelectKBest(chi2, k=20000)),\n",
    "                 ('algo', algo)])\n",
    "\n",
    "pipe.fit(X_train, y_train)\n",
    "prediction = pipe.predict(X_test)\n",
    "plot_confusion_matrix(pipe, X_test, y_test)\n",
    "plt.show()"
   ]
  },
  {
   "cell_type": "code",
   "execution_count": null,
   "metadata": {
    "pycharm": {
     "name": "#%%\n"
    }
   },
   "outputs": [],
   "source": [
    "# try XGBoost https://xgboost.readthedocs.io/en/latest/python/python_api.html\n",
    "\n",
    "\n"
   ]
  }
 ],
 "metadata": {
  "kernelspec": {
   "display_name": "hebnlp38",
   "language": "python",
   "name": "hebnlp38"
  },
  "language_info": {
   "codemirror_mode": {
    "name": "ipython",
    "version": 3
   },
   "file_extension": ".py",
   "mimetype": "text/x-python",
   "name": "python",
   "nbconvert_exporter": "python",
   "pygments_lexer": "ipython3",
   "version": "3.8.10"
  }
 },
 "nbformat": 4,
 "nbformat_minor": 1
}